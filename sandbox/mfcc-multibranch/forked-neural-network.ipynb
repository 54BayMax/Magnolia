{
 "cells": [
  {
   "cell_type": "code",
   "execution_count": 1,
   "metadata": {
    "collapsed": true
   },
   "outputs": [],
   "source": [
    "# Speech Libraries\n",
    "from python_speech_features import mfcc, get_filterbanks\n",
    "from python_speech_features.sigproc import deframesig\n",
    "from psf_supplement import specdecomp\n",
    "\n",
    "## Wave libraries\n",
    "from IPython.display import Audio\n",
    "from IPython.display import display\n",
    "import scipy.io.wavfile as wav\n",
    "\n",
    "## Standard python libraries\n",
    "import numpy as np\n",
    "import sys\n",
    "import matplotlib.pylab as plt\n",
    "%matplotlib inline"
   ]
  },
  {
   "cell_type": "markdown",
   "metadata": {},
   "source": [
    "## Three data files"
   ]
  },
  {
   "cell_type": "code",
   "execution_count": 2,
   "metadata": {
    "collapsed": false
   },
   "outputs": [],
   "source": [
    "audio_dir = \"/data/fs4/datasets/magnolia/sisec/dev/\"\n",
    "fs, snda = wav.read(audio_dir+\"dev_Ca1_Ce_A_src.wav\")\n",
    "fs, sndb = wav.read(audio_dir+\"dev_Ca1_Ce_B_src.wav\")\n",
    "fs, sndc = wav.read(audio_dir+\"dev_Sq1_Ce_B_src.wav\")\n",
    "\n",
    "sndabc = snda+sndb+sndc"
   ]
  },
  {
   "cell_type": "markdown",
   "metadata": {},
   "source": [
    "## Preprocessing Spectral and MFCC features"
   ]
  },
  {
   "cell_type": "code",
   "execution_count": 3,
   "metadata": {
    "collapsed": false
   },
   "outputs": [],
   "source": [
    "# Parameters\n",
    "nfilt=64\n",
    "numcep=64\n",
    "nfft=512\n",
    "winlen=0.01\n",
    "winstep=0.005\n",
    "ceplifter=0\n",
    "\n",
    "# We can extract MFCC features from the combination of A & B signals\n",
    "mfcc_feat = mfcc(sndabc,fs,nfilt=nfilt,numcep=numcep,nfft=nfft,\n",
    "                 winlen=winlen,winstep=winstep,ceplifter=ceplifter,\n",
    "                 appendEnergy=False)\n",
    "\n",
    "# Since python_speech_features takes spectrograms differently than \n",
    "# you or I might, I've included the library in psf_supplement.py.\n",
    "mfcc_magni = specdecomp(sndabc,samplerate=fs,nfft=nfft,\n",
    "                        winlen=winlen,winstep=winstep,decomp='abs')\n",
    "mfcc_phase = specdecomp(sndabc,samplerate=fs,nfft=nfft,\n",
    "                        winlen=winlen,winstep=winstep,decomp='phase')\n",
    "\n",
    "# Labeled mask requires situations where the desired signal is larger \n",
    "# than the noise. In this case, we require magnitude responses of signals\n",
    "# A and B (the signal and noise).\n",
    "magni_A = specdecomp(snda,samplerate=fs,nfft=nfft,\n",
    "                     winlen=winlen,winstep=winstep,decomp='abs')\n",
    "magni_B = specdecomp(sndb,samplerate=fs,nfft=nfft,\n",
    "                     winlen=winlen,winstep=winstep,decomp='abs')\n",
    "magni_C = specdecomp(sndc,samplerate=fs,nfft=nfft,\n",
    "                     winlen=winlen,winstep=winstep,decomp='abs')\n",
    "\n",
    "\n",
    "mask_A = ( magni_A > magni_B ) * ( magni_A > magni_C )\n",
    "mask_B = ( magni_B > magni_A ) * ( magni_B > magni_C )\n",
    "mask_C = ( magni_C > magni_A ) * ( magni_C > magni_B )"
   ]
  },
  {
   "cell_type": "markdown",
   "metadata": {},
   "source": [
    "## Forked neural network model"
   ]
  },
  {
   "cell_type": "code",
   "execution_count": null,
   "metadata": {
    "collapsed": false
   },
   "outputs": [
    {
     "name": "stderr",
     "output_type": "stream",
     "text": [
      "Using Theano backend.\n",
      "Using gpu device 0: GeForce GTX TITAN X (CNMeM is disabled, cuDNN 5110)\n",
      "/opt/conda/lib/python3.5/site-packages/theano/sandbox/cuda/__init__.py:600: UserWarning: Your cuDNN version is more recent than the one Theano officially supports. If you see any problems, try updating Theano or downgrading cuDNN to version 5.\n",
      "  warnings.warn(warn)\n"
     ]
    }
   ],
   "source": [
    "import os\n",
    "# os.environ['KERAS_BACKEND']= \"tensorflow\"\n",
    "os.environ['KERAS_BACKEND']= \"theano\"\n",
    "import keras\n",
    "from keras.models import Sequential, load_model\n",
    "from keras.optimizers import Adam\n",
    "from keras.layers.core import Dense, Activation, Dropout, Lambda\n",
    "from keras.objectives import binary_crossentropy\n",
    "\n",
    "model = Sequential()\n",
    "model.add(Dense(input_dim=mfcc_feat.shape[1], output_dim=2048, init=\"uniform\"))\n",
    "model.add(Activation(\"relu\"))\n",
    "model.add(Dense(input_dim=2048, output_dim=2048))\n",
    "model.add(Activation(\"relu\"))\n",
    "\n",
    "\n",
    "modelA = Sequential()\n",
    "modelB = Sequential()\n",
    "modelC = Sequential()\n",
    "\n",
    "modelA.add(model)\n",
    "modelB.add(model)\n",
    "modelC.add(model)\n",
    "\n",
    "modelA.add(Dense(input_dim=2048, output_dim=257))\n",
    "modelB.add(Dense(input_dim=2048, output_dim=257))\n",
    "modelC.add(Dense(input_dim=2048, output_dim=257))\n",
    "\n",
    "modelA.add(Activation(\"sigmoid\"))\n",
    "modelB.add(Activation(\"sigmoid\"))\n",
    "modelC.add(Activation(\"sigmoid\"))\n",
    "\n",
    "modelA.optimizer_init=Adam(lr=0.001, beta_1=0.9, beta_2=0.999, epsilon=1e-08)\n",
    "modelA.compile(loss=binary_crossentropy, optimizer=modelA.optimizer_init)\n",
    "\n",
    "modelB.optimizer_init=Adam(lr=0.001, beta_1=0.9, beta_2=0.999, epsilon=1e-08)\n",
    "modelB.compile(loss=binary_crossentropy, optimizer=modelB.optimizer_init)\n",
    "\n",
    "modelC.optimizer_init=Adam(lr=0.001, beta_1=0.9, beta_2=0.999, epsilon=1e-08)\n",
    "modelC.compile(loss=binary_crossentropy, optimizer=modelC.optimizer_init)"
   ]
  },
  {
   "cell_type": "markdown",
   "metadata": {},
   "source": [
    "## Iterate through training"
   ]
  },
  {
   "cell_type": "code",
   "execution_count": null,
   "metadata": {
    "collapsed": false
   },
   "outputs": [
    {
     "name": "stdout",
     "output_type": "stream",
     "text": [
      "Epoch 129, loss=(0.0302017190032,0.0170115866736,0.0251811862014)15)"
     ]
    }
   ],
   "source": [
    "for epoch in range(150):\n",
    "    modelAloss = modelA.fit(mfcc_feat, mask_A, nb_epoch=1, batch_size=32, verbose=0, shuffle=1)\n",
    "    modelBloss = modelB.fit(mfcc_feat, mask_B, nb_epoch=1, batch_size=32, verbose=0, shuffle=1)\n",
    "    modelCloss = modelC.fit(mfcc_feat, mask_C, nb_epoch=1, batch_size=32, verbose=0, shuffle=1)\n",
    "    mAl = modelAloss.history['loss'][0]\n",
    "    mBl = modelBloss.history['loss'][0]\n",
    "    mCl = modelCloss.history['loss'][0]\n",
    "    sys.stdout.write('\\rEpoch '+str(epoch)+', loss=('+str(mAl)+','+str(mBl)+','+str(mCl)+')')\n",
    "    sys.stdout.flush()"
   ]
  },
  {
   "cell_type": "markdown",
   "metadata": {},
   "source": [
    "## Test on training data"
   ]
  },
  {
   "cell_type": "code",
   "execution_count": null,
   "metadata": {
    "collapsed": true
   },
   "outputs": [],
   "source": [
    "mask_A_recon = modelA.predict( mfcc_feat )\n",
    "mask_B_recon = modelB.predict( mfcc_feat )\n",
    "mask_C_recon = modelC.predict( mfcc_feat )"
   ]
  },
  {
   "cell_type": "markdown",
   "metadata": {},
   "source": [
    "## Reconstruct the original signal"
   ]
  },
  {
   "cell_type": "code",
   "execution_count": null,
   "metadata": {
    "collapsed": false
   },
   "outputs": [],
   "source": [
    "snda_recon = (mask_A_recon * mfcc_magni) * np.exp( 1j *  mfcc_phase )\n",
    "snda_recon = np.fft.irfft( snda_recon )\n",
    "snda_recon = snda_recon[:,:(int(fs*winlen))]\n",
    "\n",
    "sndb_recon = (mask_B_recon * mfcc_magni) * np.exp( 1j *  mfcc_phase )\n",
    "sndb_recon = np.fft.irfft( sndb_recon )\n",
    "sndb_recon = sndb_recon[:,:(int(fs*winlen))]\n",
    "\n",
    "sndc_recon = (mask_C_recon * mfcc_magni) * np.exp( 1j *  mfcc_phase )\n",
    "sndc_recon = np.fft.irfft( sndc_recon )\n",
    "sndc_recon = sndc_recon[:,:(int(fs*winlen))]\n",
    "\n",
    "snda_recon = deframesig(snda_recon, 0, int(fs*winlen), int(fs*winstep))\n",
    "sndb_recon = deframesig(sndb_recon, 0, int(fs*winlen), int(fs*winstep))\n",
    "sndc_recon = deframesig(sndc_recon, 0, int(fs*winlen), int(fs*winstep))"
   ]
  },
  {
   "cell_type": "code",
   "execution_count": null,
   "metadata": {
    "collapsed": false
   },
   "outputs": [],
   "source": [
    "display(Audio(snda_recon, rate=fs))\n",
    "display(Audio(sndb_recon, rate=fs))\n",
    "display(Audio(sndc_recon, rate=fs))"
   ]
  }
 ],
 "metadata": {
  "kernelspec": {
   "display_name": "Python 3",
   "language": "python",
   "name": "python3"
  },
  "language_info": {
   "codemirror_mode": {
    "name": "ipython",
    "version": 3
   },
   "file_extension": ".py",
   "mimetype": "text/x-python",
   "name": "python",
   "nbconvert_exporter": "python",
   "pygments_lexer": "ipython3",
   "version": "3.5.2"
  }
 },
 "nbformat": 4,
 "nbformat_minor": 2
}
