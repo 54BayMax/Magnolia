{
 "cells": [
  {
   "cell_type": "code",
   "execution_count": 1,
   "metadata": {
    "collapsed": false
   },
   "outputs": [
    {
     "name": "stderr",
     "output_type": "stream",
     "text": [
      "Using gpu device 0: GeForce GTX TITAN X (CNMeM is disabled, cuDNN 5110)\n",
      "/opt/conda/lib/python3.5/site-packages/theano/sandbox/cuda/__init__.py:600: UserWarning: Your cuDNN version is more recent than the one Theano officially supports. If you see any problems, try updating Theano or downgrading cuDNN to version 5.\n",
      "  warnings.warn(warn)\n"
     ]
    }
   ],
   "source": [
    "# Scientific libraries\n",
    "import scipy\n",
    "import pylab\n",
    "import numpy as np\n",
    "import numpy.ma as ma\n",
    "import theano\n",
    "import theano.tensor as T\n",
    "from sklearn.decomposition import NMF\n",
    "\n",
    "# Audio libraries\n",
    "from scipy.io import wavfile\n",
    "from IPython.display import display, Audio\n",
    "\n",
    "# Operational libraries\n",
    "import os\n",
    "import matplotlib.pylab as plt\n",
    "%matplotlib inline"
   ]
  },
  {
   "cell_type": "markdown",
   "metadata": {},
   "source": [
    "## Read in the data"
   ]
  },
  {
   "cell_type": "code",
   "execution_count": 2,
   "metadata": {
    "collapsed": false
   },
   "outputs": [],
   "source": [
    "audio_dir = \"/data/fs4/datasets/magnolia/sisec/dev/\"\n",
    "fs, snda = wavfile.read(os.path.join(audio_dir, \"dev_Ca1_Ce_A_src.wav\"))\n",
    "fs, sndb = wavfile.read(os.path.join(audio_dir, \"dev_Ca1_Ce_B_src.wav\"))\n",
    "\n",
    "sndab = snda+sndb"
   ]
  },
  {
   "cell_type": "markdown",
   "metadata": {},
   "source": [
    "## Utility Functions and Non-negative Matrix Factorization"
   ]
  },
  {
   "cell_type": "code",
   "execution_count": 57,
   "metadata": {
    "collapsed": false
   },
   "outputs": [],
   "source": [
    "def stft(x, fs, framesz, hop):\n",
    "    '''\n",
    "    Short Time Fourier Transform (STFT) - Spectral decomposition\n",
    "    \n",
    "    Input:\n",
    "        x = signal (1-d array, which is amp/sample)\n",
    "        fs = sampling frequency (in Hz)\n",
    "        framesz = frame size (in seconds)\n",
    "        hop = skip length (in seconds)\n",
    "        \n",
    "    Output:\n",
    "        X = 2d array, window by number of windows\n",
    "    '''\n",
    "    framesamp = int(framesz*fs)\n",
    "    hopsamp = int(hop*fs)\n",
    "    w = scipy.hanning(framesamp)\n",
    "    X = scipy.array([scipy.fft(w*x[i:i+framesamp]) \n",
    "                     for i in range(0, len(x)-framesamp, hopsamp)])\n",
    "    return X\n",
    "\n",
    "def istft(X, fs, T, hop):\n",
    "    ''' Inverse Short Time Fourier Transform (iSTFT) - Spectral reconstruction\n",
    "    \n",
    "    Input:\n",
    "        X = set of 2D windows\n",
    "        fs = sampling frequency (in Hz)\n",
    "        T = total length of reconstruction willing to be performed\n",
    "        hop = skip rate\n",
    "    '''\n",
    "    x = scipy.zeros(T*fs)\n",
    "    framesamp = X.shape[1]\n",
    "    hopsamp = int(hop*fs)\n",
    "    for n,i in enumerate(range(0, len(x)-framesamp, hopsamp)):\n",
    "        x[i:i+framesamp] += scipy.real(scipy.ifft(X[n]))\n",
    "    return x\n",
    "\n",
    "# def nmf(X, k, maxiter=1000):\n",
    "k=2\n",
    "maxiter=1000\n",
    "X = np.random.rand(100,1000)\n",
    "W = np.random.rand(X.shape[0],k)\n",
    "H = np.random.rand(k,X.shape[1])\n",
    "\n",
    "# Convert to Python\n",
    "F = size(V,1);\n",
    "T = size(V,2);\n",
    "\n",
    "rand('seed',0)\n",
    "W = 1+rand(F, K);\n",
    "% W = W./repmat(sum(W),F,1);\n",
    "H = 1+rand(K, T);\n",
    "\n",
    "ONES = ones(F,T);\n",
    "\n",
    "for i=1:MAXITER\n",
    "    % update activations\n",
    "    H = H .* (W'*( V./(W*H+eps))) ./ (W'*ONES);\n",
    "\n",
    "    % update dictionaries\n",
    "    W = W .* ((V./(W*H+eps))*H') ./(ONES*H')\n"
   ]
  },
  {
   "cell_type": "markdown",
   "metadata": {},
   "source": [
    "## Spectral transform and component decomposition\n",
    "\n",
    "The decomposition below fits a model:\n",
    "\n",
    "$$ \\| X - WH \\|_F^2 + \\alpha \\lambda_1 \\| W \\|_1 + \\alpha \\lambda_1 \\| H \\|_1  $$\n",
    "\n",
    "Unfortunately, the code below only stores $W$, and leaves the user to calculate $H$"
   ]
  },
  {
   "cell_type": "code",
   "execution_count": 6,
   "metadata": {
    "collapsed": false
   },
   "outputs": [
    {
     "name": "stdout",
     "output_type": "stream",
     "text": [
      "%d 0\n",
      "%d 1\n",
      "%d 2\n",
      "%d 3\n"
     ]
    },
    {
     "ename": "KeyboardInterrupt",
     "evalue": "",
     "output_type": "error",
     "traceback": [
      "\u001b[0;31m---------------------------------------------------------------------------\u001b[0m",
      "\u001b[0;31mKeyboardInterrupt\u001b[0m                         Traceback (most recent call last)",
      "\u001b[0;32m<ipython-input-6-ba55cb9e0f14>\u001b[0m in \u001b[0;36m<module>\u001b[0;34m()\u001b[0m\n\u001b[1;32m     43\u001b[0m \u001b[0;34m\u001b[0m\u001b[0m\n\u001b[1;32m     44\u001b[0m \u001b[0mnumcomp\u001b[0m\u001b[0;34m=\u001b[0m\u001b[0;36m2\u001b[0m\u001b[0;34m\u001b[0m\u001b[0m\n\u001b[0;32m---> 45\u001b[0;31m \u001b[0mmatrix_factorization_sgd\u001b[0m\u001b[0;34m(\u001b[0m\u001b[0mabs\u001b[0m\u001b[0;34m(\u001b[0m\u001b[0msndabft\u001b[0m\u001b[0;34m)\u001b[0m\u001b[0;34m,\u001b[0m \u001b[0mP\u001b[0m\u001b[0;34m,\u001b[0m \u001b[0mQ\u001b[0m\u001b[0;34m)\u001b[0m\u001b[0;34m\u001b[0m\u001b[0m\n\u001b[0m",
      "\u001b[0;32m<ipython-input-6-ba55cb9e0f14>\u001b[0m in \u001b[0;36mmatrix_factorization_sgd\u001b[0;34m(D, P, Q, steps, alpha, beta)\u001b[0m\n\u001b[1;32m     36\u001b[0m         \u001b[0;32mfor\u001b[0m \u001b[0;34m(\u001b[0m\u001b[0mrow\u001b[0m\u001b[0;34m,\u001b[0m \u001b[0mcol\u001b[0m\u001b[0;34m)\u001b[0m\u001b[0;34m,\u001b[0m \u001b[0mval\u001b[0m \u001b[0;32min\u001b[0m \u001b[0mnp\u001b[0m\u001b[0;34m.\u001b[0m\u001b[0mndenumerate\u001b[0m\u001b[0;34m(\u001b[0m\u001b[0mD\u001b[0m\u001b[0;34m)\u001b[0m\u001b[0;34m:\u001b[0m\u001b[0;34m\u001b[0m\u001b[0m\n\u001b[1;32m     37\u001b[0m             \u001b[0;32mif\u001b[0m \u001b[0;32mnot\u001b[0m \u001b[0mgetmask\u001b[0m\u001b[0;34m(\u001b[0m\u001b[0mD\u001b[0m\u001b[0;34m)\u001b[0m\u001b[0;34m[\u001b[0m\u001b[0mrow\u001b[0m\u001b[0;34m,\u001b[0m \u001b[0mcol\u001b[0m\u001b[0;34m]\u001b[0m\u001b[0;34m:\u001b[0m\u001b[0;34m\u001b[0m\u001b[0m\n\u001b[0;32m---> 38\u001b[0;31m                 \u001b[0mtrain\u001b[0m\u001b[0;34m(\u001b[0m\u001b[0mrow\u001b[0m\u001b[0;34m,\u001b[0m \u001b[0mcol\u001b[0m\u001b[0;34m,\u001b[0m \u001b[0mval\u001b[0m\u001b[0;34m)\u001b[0m\u001b[0;34m\u001b[0m\u001b[0m\n\u001b[0m\u001b[1;32m     39\u001b[0m         \u001b[0mprint\u001b[0m\u001b[0;34m(\u001b[0m\u001b[0;34m\"%d\"\u001b[0m\u001b[0;34m,\u001b[0m\u001b[0m_\u001b[0m\u001b[0;34m)\u001b[0m\u001b[0;34m\u001b[0m\u001b[0m\n\u001b[1;32m     40\u001b[0m \u001b[0;34m\u001b[0m\u001b[0m\n",
      "\u001b[0;32m/opt/conda/lib/python3.5/site-packages/theano/compile/function_module.py\u001b[0m in \u001b[0;36m__call__\u001b[0;34m(self, *args, **kwargs)\u001b[0m\n\u001b[1;32m    857\u001b[0m         \u001b[0mt0_fn\u001b[0m \u001b[0;34m=\u001b[0m \u001b[0mtime\u001b[0m\u001b[0;34m.\u001b[0m\u001b[0mtime\u001b[0m\u001b[0;34m(\u001b[0m\u001b[0;34m)\u001b[0m\u001b[0;34m\u001b[0m\u001b[0m\n\u001b[1;32m    858\u001b[0m         \u001b[0;32mtry\u001b[0m\u001b[0;34m:\u001b[0m\u001b[0;34m\u001b[0m\u001b[0m\n\u001b[0;32m--> 859\u001b[0;31m             \u001b[0moutputs\u001b[0m \u001b[0;34m=\u001b[0m \u001b[0mself\u001b[0m\u001b[0;34m.\u001b[0m\u001b[0mfn\u001b[0m\u001b[0;34m(\u001b[0m\u001b[0;34m)\u001b[0m\u001b[0;34m\u001b[0m\u001b[0m\n\u001b[0m\u001b[1;32m    860\u001b[0m         \u001b[0;32mexcept\u001b[0m \u001b[0mException\u001b[0m\u001b[0;34m:\u001b[0m\u001b[0;34m\u001b[0m\u001b[0m\n\u001b[1;32m    861\u001b[0m             \u001b[0;32mif\u001b[0m \u001b[0mhasattr\u001b[0m\u001b[0;34m(\u001b[0m\u001b[0mself\u001b[0m\u001b[0;34m.\u001b[0m\u001b[0mfn\u001b[0m\u001b[0;34m,\u001b[0m \u001b[0;34m'position_of_error'\u001b[0m\u001b[0;34m)\u001b[0m\u001b[0;34m:\u001b[0m\u001b[0;34m\u001b[0m\u001b[0m\n",
      "\u001b[0;31mKeyboardInterrupt\u001b[0m: "
     ]
    }
   ],
   "source": []
  },
  {
   "cell_type": "markdown",
   "metadata": {},
   "source": [
    "## Reconstruction (first Fourier and time-domain)\n",
    "\n",
    "Based on the spectral decomposition in the above cell, where\n",
    "\n"
   ]
  },
  {
   "cell_type": "code",
   "execution_count": null,
   "metadata": {
    "collapsed": false
   },
   "outputs": [],
   "source": [
    "ws = np.zeros(model.components_.shape)\n",
    "masks = np.zeros((len(model.components_),) + sndabft.shape)\n",
    "for i,wi in enumerate(model.components_):\n",
    "    ws[i]= wi / np.linalg.norm(wi)\n",
    "    energyi = ws[i].dot(abs(sndabft).T)\n",
    "    masks[i] = np.outer( energyi, ws[i] )\n",
    "    \n",
    "maska = (masks[0]) > (masks[1])\n",
    "maskb = (masks[1]) > (masks[0])\n",
    "\n",
    "plt.figure();\n",
    "plt.subplot(211); plt.plot( ws[0].dot(abs(sndabft).T)/1e5 )\n",
    "plt.subplot(212); plt.plot( ws[1].dot(abs(sndabft).T)/1e5 )\n",
    "plt.figure(); plt.imshow(maska.T, aspect=.2, cmap='bone')\n",
    "plt.figure(); plt.imshow(maskb.T, aspect=.2, cmap='bone')"
   ]
  },
  {
   "cell_type": "code",
   "execution_count": null,
   "metadata": {
    "collapsed": false
   },
   "outputs": [],
   "source": [
    "sndareconft = maska*abs(sndabft)*np.exp( 1j* np.angle(sndabft))  # Apply mask A\n",
    "sndarecon = istft( sndareconft, fs, 5, 0.025 )\n",
    "\n",
    "sndbreconft = maskb*abs(sndabft)*np.exp( 1j* np.angle(sndabft))  # Apply mask B = 1 - A\n",
    "sndbrecon = istft( sndbreconft, fs, 5, 0.025 )"
   ]
  },
  {
   "cell_type": "markdown",
   "metadata": {},
   "source": [
    "## Play audio"
   ]
  },
  {
   "cell_type": "code",
   "execution_count": null,
   "metadata": {
    "collapsed": false
   },
   "outputs": [],
   "source": [
    "print('Original signal')\n",
    "display(Audio(sndab, rate=fs))\n",
    "print('Reconstruction of signal A')\n",
    "display(Audio(sndarecon,rate=fs))\n",
    "print('Reconstruction of signal B')\n",
    "display(Audio(sndbrecon,rate=fs))"
   ]
  },
  {
   "cell_type": "code",
   "execution_count": null,
   "metadata": {
    "collapsed": true
   },
   "outputs": [],
   "source": []
  }
 ],
 "metadata": {
  "kernelspec": {
   "display_name": "Python 3",
   "language": "python",
   "name": "python3"
  },
  "language_info": {
   "codemirror_mode": {
    "name": "ipython",
    "version": 3
   },
   "file_extension": ".py",
   "mimetype": "text/x-python",
   "name": "python",
   "nbconvert_exporter": "python",
   "pygments_lexer": "ipython3",
   "version": "3.5.2"
  }
 },
 "nbformat": 4,
 "nbformat_minor": 2
}
