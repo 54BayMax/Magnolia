{
 "cells": [
  {
   "cell_type": "code",
   "execution_count": null,
   "metadata": {
    "collapsed": true
   },
   "outputs": [],
   "source": [
    "import numpy as np\n",
    "import gennoisy\n",
    "import matplotlib.pylab as plt\n",
    "import pandas as pd\n",
    "\n",
    "%matplotlib inline"
   ]
  },
  {
   "cell_type": "code",
   "execution_count": null,
   "metadata": {
    "collapsed": true
   },
   "outputs": [],
   "source": [
    "def sigmoid(X):\n",
    "    return 1./(1 + np.exp(-X))\n",
    "\n",
    "def dsigmoid(X):\n",
    "    return sigmoid(X)*(1 - sigmoid(X))"
   ]
  },
  {
   "cell_type": "code",
   "execution_count": null,
   "metadata": {
    "collapsed": false
   },
   "outputs": [],
   "source": [
    "X,S,A,N = gennoisy.gennoisy()\n",
    "plt.plot(X); plt.title('Simulated microphone receiver')"
   ]
  },
  {
   "cell_type": "markdown",
   "metadata": {},
   "source": [
    "### Pre-whiten the data\n",
    "\n",
    "\n",
    "The sample covariance matrix is calculated:\n",
    "$$ S_c = \\frac{1}{N} \\left( X - \\mu_x \\right)^T (X - \\mu_x ) $$\n",
    "\n",
    "Whitened data is then:\n",
    "$$ \\hat{X} = \\Phi \\Lambda^{-0.5} \\Phi^T (X - \\mu_x) $$\n",
    "\n",
    "where \n",
    "\n",
    "$$ S_c = \\Phi \\Lambda \\Phi^T $$"
   ]
  },
  {
   "cell_type": "code",
   "execution_count": null,
   "metadata": {
    "collapsed": false
   },
   "outputs": [],
   "source": [
    "Xm = (X - X.mean(axis=0))\n",
    "N = X.shape[0]\n",
    "\n",
    "Sc = Xm.T @ Xm / N\n",
    "[eigvals, eigvecs] = np.linalg.eig(Sc)\n",
    "\n",
    "eigwhite = eigvecs*(eigvals**-0.5).dot(eigvecs.T)\n",
    "Xw = eigwhite.dot( Xm.T )"
   ]
  },
  {
   "cell_type": "markdown",
   "metadata": {},
   "source": [
    "### Nonlinearities\n",
    "\n",
    "\n",
    "$$ f(u) = - e^{-u^2/2} $$\n",
    "$$ g(u) = u e^{-u^2/2} $$\n",
    "$$ g'(u) = (1 - u^2) e^{-u^2/2} $$"
   ]
  },
  {
   "cell_type": "code",
   "execution_count": null,
   "metadata": {
    "collapsed": false
   },
   "outputs": [],
   "source": [
    "def f(u):\n",
    "    return - np.exp(-u**2/2 )\n",
    "def g(u):\n",
    "    return u*np.exp( -u**2 / 2 )\n",
    "def gp(u):\n",
    "    return (1 - u**2)*np.exp(-u**2 / 2)"
   ]
  },
  {
   "cell_type": "markdown",
   "metadata": {},
   "source": [
    "### Multiple component extraction\n",
    "\n",
    "Per the wikipedia page at \"https://en.wikipedia.org/wiki/FastICA\""
   ]
  },
  {
   "cell_type": "code",
   "execution_count": null,
   "metadata": {
    "collapsed": false
   },
   "outputs": [],
   "source": [
    "W =np.random.rand(3,3)\n",
    "C = 3\n",
    "\n",
    "for p in range(C):\n",
    "\n",
    "    # Take the pth column of W\n",
    "    wp = W[:,p]\n",
    "    \n",
    "    for i in range(1000):\n",
    "\n",
    "        # Maximize non-Gaussianity\n",
    "        wp = 1/N*Xw.dot(g(wp.dot(Xw)).T ) - gp(wp.dot(Xw)).sum()/N*wp \n",
    "\n",
    "        # Orthogonalize to other components\n",
    "        for j in range(p):\n",
    "            wj = W[:,j]\n",
    "            wp = wp - wp.dot(wj)*wj\n",
    "\n",
    "        # Reproject back to the unit norm\n",
    "        wp = wp / np.linalg.norm(wp)\n",
    "\n",
    "        # Reassign to W\n",
    "        W[:,p] = wp\n",
    "        \n",
    "print(W)"
   ]
  },
  {
   "cell_type": "code",
   "execution_count": null,
   "metadata": {
    "collapsed": false
   },
   "outputs": [],
   "source": [
    "Sh = W.T.dot(Xm.T).T\n",
    "plt.plot(Sh)"
   ]
  }
 ],
 "metadata": {
  "kernelspec": {
   "display_name": "Python 3",
   "language": "python",
   "name": "python3"
  },
  "language_info": {
   "codemirror_mode": {
    "name": "ipython",
    "version": 3
   },
   "file_extension": ".py",
   "mimetype": "text/x-python",
   "name": "python",
   "nbconvert_exporter": "python",
   "pygments_lexer": "ipython3",
   "version": "3.5.2"
  }
 },
 "nbformat": 4,
 "nbformat_minor": 2
}
