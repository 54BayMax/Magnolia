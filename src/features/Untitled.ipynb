{
 "cells": [
  {
   "cell_type": "code",
   "execution_count": 2,
   "metadata": {
    "collapsed": false
   },
   "outputs": [],
   "source": [
    "import sys\n",
    "import time\n",
    "sys.path.append('/home/cstephenson/Magnolia/sandbox/lab41-broadcast/')\n",
    "sys.path.append('/home/cstephenson/Magnolia/')\n",
    "sys.path.append('../../')\n",
    "import numpy as np\n",
    "import tensorflow as tf\n",
    "from src.utils.clustering_utils import clustering_separate, get_cluster_masks, process_signal\n",
    "from src.features.mixer import FeatureMixer\n",
    "from src.features.supervised_iterator import SupervisedIterator, SupervisedMixer\n",
    "from src.features.hdf5_iterator import SplitsIterator\n",
    "from src.features.spectral_features import istft\n",
    "from src.features.data_preprocessing import undo_preemphasis\n",
    "from src.utils.bss_eval import bss_eval_sources\n",
    "import IPython\n",
    "from IPython.display import Audio\n",
    "from matplotlib import pyplot as plt\n",
    "fig_size = [0,0]\n",
    "fig_size[0] = 8\n",
    "fig_size[1] = 4\n",
    "plt.rcParams[\"figure.figsize\"] = fig_size\n",
    "#from supervised_iterator_experiment import SupervisedMixer\n",
    "numsources = 2\n",
    "batchsize = 256\n",
    "datashape = (40, 257)\n",
    "embedding_size = 600\n"
   ]
  },
  {
   "cell_type": "code",
   "execution_count": 7,
   "metadata": {
    "collapsed": false
   },
   "outputs": [],
   "source": [
    "libridev='/local_data/teams/magnolia/librispeech/processed_dev-clean.h5'\n",
    "speaker_keys = open('../../data/librispeech/authors/dev-clean-F.txt','r').read().splitlines()\n",
    "    \n",
    "siterator = SplitsIterator([0.8,0.1,0.1], libridev, speaker_keys=speaker_keys, shape=datashape, return_key=True)\n",
    "siterator.set_split(0)\n",
    "smixer = SupervisedMixer([siterator,siterator], shape=datashape, \n",
    "                        mix_method='add', diffseed=True)"
   ]
  },
  {
   "cell_type": "code",
   "execution_count": 8,
   "metadata": {
    "collapsed": false
   },
   "outputs": [
    {
     "data": {
      "text/plain": [
       "[<src.features.hdf5_iterator.SplitsIterator at 0x7f1f252b30b8>,\n",
       " <src.features.hdf5_iterator.SplitsIterator at 0x7f1f252b30b8>]"
      ]
     },
     "execution_count": 8,
     "metadata": {},
     "output_type": "execute_result"
    }
   ],
   "source": [
    "smixer.iterators"
   ]
  }
 ],
 "metadata": {
  "kernelspec": {
   "display_name": "tensorflow1.1",
   "language": "python",
   "name": "tf1.1"
  },
  "language_info": {
   "codemirror_mode": {
    "name": "ipython",
    "version": 3
   },
   "file_extension": ".py",
   "mimetype": "text/x-python",
   "name": "python",
   "nbconvert_exporter": "python",
   "pygments_lexer": "ipython3",
   "version": "3.5.3"
  }
 },
 "nbformat": 4,
 "nbformat_minor": 2
}
