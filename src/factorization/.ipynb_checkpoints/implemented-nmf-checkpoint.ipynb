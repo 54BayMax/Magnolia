{
 "cells": [
  {
   "cell_type": "code",
   "execution_count": 1,
   "metadata": {
    "collapsed": false
   },
   "outputs": [],
   "source": [
    "# Scientific libraries\n",
    "import scipy\n",
    "import pylab\n",
    "import numpy as np\n",
    "import numpy.ma as ma\n",
    "from nmf import nmf\n",
    "\n",
    "# Audio libraries\n",
    "from scipy.io import wavfile\n",
    "from IPython.display import display, Audio\n",
    "\n",
    "# Operational libraries\n",
    "import os\n",
    "import matplotlib.pylab as plt\n",
    "%matplotlib inline"
   ]
  },
  {
   "cell_type": "markdown",
   "metadata": {},
   "source": [
    "## Read in the data"
   ]
  },
  {
   "cell_type": "code",
   "execution_count": 2,
   "metadata": {
    "collapsed": false
   },
   "outputs": [],
   "source": [
    "audio_dir = \"/Users/kni/Code/Magnolia/data/sisec-dev/\"\n",
    "fs, snda = wavfile.read(os.path.join(audio_dir, \"dev_Ca1_Ce_A_src.wav\"))\n",
    "fs, sndb = wavfile.read(os.path.join(audio_dir, \"dev_Ca1_Ce_B_src.wav\"))\n",
    "\n",
    "sndab = snda+sndb"
   ]
  },
  {
   "cell_type": "markdown",
   "metadata": {},
   "source": [
    "## Utility Functions and Non-negative Matrix Factorization"
   ]
  },
  {
   "cell_type": "code",
   "execution_count": 3,
   "metadata": {
    "collapsed": false
   },
   "outputs": [],
   "source": [
    "def stft(x, fs, framesz, hop):\n",
    "    '''\n",
    "    Short Time Fourier Transform (STFT) - Spectral decomposition\n",
    "    \n",
    "    Input:\n",
    "        x = signal (1-d array, which is amp/sample)\n",
    "        fs = sampling frequency (in Hz)\n",
    "        framesz = frame size (in seconds)\n",
    "        hop = skip length (in seconds)\n",
    "        \n",
    "    Output:\n",
    "        X = 2d array, window by number of windows\n",
    "    '''\n",
    "    framesamp = int(framesz*fs)\n",
    "    hopsamp = int(hop*fs)\n",
    "    w = scipy.hanning(framesamp)\n",
    "    X = scipy.array([scipy.fft(w*x[i:i+framesamp]) \n",
    "                     for i in range(0, len(x)-framesamp, hopsamp)])\n",
    "    return X\n",
    "\n",
    "def istft(X, fs, T, hop):\n",
    "    ''' Inverse Short Time Fourier Transform (iSTFT) - Spectral reconstruction\n",
    "    \n",
    "    Input:\n",
    "        X = set of 2D windows\n",
    "        fs = sampling frequency (in Hz)\n",
    "        T = total length of reconstruction willing to be performed\n",
    "        hop = skip rate\n",
    "    '''\n",
    "    x = scipy.zeros(T*fs)\n",
    "    framesamp = X.shape[1]\n",
    "    hopsamp = int(hop*fs)\n",
    "    for n,i in enumerate(range(0, len(x)-framesamp, hopsamp)):\n",
    "        x[i:i+framesamp] += scipy.real(scipy.ifft(X[n]))\n",
    "    return x"
   ]
  },
  {
   "cell_type": "markdown",
   "metadata": {},
   "source": [
    "## Spectral transform and component decomposition\n",
    "\n",
    "The decomposition below fits a model:\n",
    "\n",
    "$$ \\| X - WH \\|_F^2 + \\alpha \\lambda_1 \\| W \\|_1 + \\alpha \\lambda_1 \\| H \\|_1  $$\n",
    "\n",
    "Unfortunately, the code below only stores $W$, and leaves the user to calculate $H$"
   ]
  },
  {
   "cell_type": "code",
   "execution_count": 5,
   "metadata": {
    "collapsed": false
   },
   "outputs": [
    {
     "data": {
      "text/plain": [
       "[<matplotlib.lines.Line2D at 0x10c30d9e8>,\n",
       " <matplotlib.lines.Line2D at 0x10c30dc88>]"
      ]
     },
     "execution_count": 5,
     "metadata": {},
     "output_type": "execute_result"
    },
    {
     "data": {
      "image/png": "[encoded data removed]",
      "text/plain": [
       "<matplotlib.figure.Figure at 0x10c1da4a8>"
      ]
     },
     "metadata": {},
     "output_type": "display_data"
    }
   ],
   "source": [
    "sndabft = stft( sndab, fs, 0.05, 0.025)\n",
    "W,H = nmf(abs(sndabft),2)\n",
    "\n",
    "plt.plot( H.T )"
   ]
  },
  {
   "cell_type": "markdown",
   "metadata": {},
   "source": [
    "## Reconstruction (first Fourier and time-domain)\n",
    "\n",
    "Based on the spectral decomposition in the above cell, where\n",
    "\n"
   ]
  },
  {
   "cell_type": "code",
   "execution_count": 16,
   "metadata": {
    "collapsed": false
   },
   "outputs": [
    {
     "name": "stdout",
     "output_type": "stream",
     "text": [
      "(2, 398)\n",
      "(2,)\n"
     ]
    }
   ],
   "source": [
    "print( W.T.shape )\n",
    "print( wi.shape )"
   ]
  },
  {
   "cell_type": "code",
   "execution_count": 20,
   "metadata": {
    "collapsed": false
   },
   "outputs": [
    {
     "ename": "ValueError",
     "evalue": "shapes (398,) and (800,398) not aligned: 398 (dim 0) != 800 (dim 0)",
     "output_type": "error",
     "traceback": [
      "\u001b[0;31m---------------------------------------------------------------------------\u001b[0m",
      "\u001b[0;31mValueError\u001b[0m                                Traceback (most recent call last)",
      "\u001b[0;32m<ipython-input-20-d1dcf0d4dd90>\u001b[0m in \u001b[0;36m<module>\u001b[0;34m()\u001b[0m\n\u001b[1;32m      3\u001b[0m \u001b[0;32mfor\u001b[0m \u001b[0mi\u001b[0m\u001b[0;34m,\u001b[0m\u001b[0mwi\u001b[0m \u001b[0;32min\u001b[0m \u001b[0menumerate\u001b[0m\u001b[0;34m(\u001b[0m\u001b[0mW\u001b[0m\u001b[0;34m.\u001b[0m\u001b[0mT\u001b[0m\u001b[0;34m)\u001b[0m\u001b[0;34m:\u001b[0m\u001b[0;34m\u001b[0m\u001b[0m\n\u001b[1;32m      4\u001b[0m     \u001b[0mws\u001b[0m\u001b[0;34m[\u001b[0m\u001b[0mi\u001b[0m\u001b[0;34m]\u001b[0m\u001b[0;34m=\u001b[0m \u001b[0mwi\u001b[0m \u001b[0;34m/\u001b[0m \u001b[0mnp\u001b[0m\u001b[0;34m.\u001b[0m\u001b[0mlinalg\u001b[0m\u001b[0;34m.\u001b[0m\u001b[0mnorm\u001b[0m\u001b[0;34m(\u001b[0m\u001b[0mwi\u001b[0m\u001b[0;34m)\u001b[0m\u001b[0;34m\u001b[0m\u001b[0m\n\u001b[0;32m----> 5\u001b[0;31m     \u001b[0menergyi\u001b[0m \u001b[0;34m=\u001b[0m \u001b[0mws\u001b[0m\u001b[0;34m[\u001b[0m\u001b[0mi\u001b[0m\u001b[0;34m]\u001b[0m\u001b[0;34m.\u001b[0m\u001b[0mdot\u001b[0m\u001b[0;34m(\u001b[0m\u001b[0mabs\u001b[0m\u001b[0;34m(\u001b[0m\u001b[0msndabft\u001b[0m\u001b[0;34m)\u001b[0m\u001b[0;34m.\u001b[0m\u001b[0mT\u001b[0m\u001b[0;34m)\u001b[0m\u001b[0;34m\u001b[0m\u001b[0m\n\u001b[0m\u001b[1;32m      6\u001b[0m     \u001b[0mmasks\u001b[0m\u001b[0;34m[\u001b[0m\u001b[0mi\u001b[0m\u001b[0;34m]\u001b[0m \u001b[0;34m=\u001b[0m \u001b[0mnp\u001b[0m\u001b[0;34m.\u001b[0m\u001b[0mouter\u001b[0m\u001b[0;34m(\u001b[0m \u001b[0menergyi\u001b[0m\u001b[0;34m,\u001b[0m \u001b[0mws\u001b[0m\u001b[0;34m[\u001b[0m\u001b[0mi\u001b[0m\u001b[0;34m]\u001b[0m \u001b[0;34m)\u001b[0m\u001b[0;34m\u001b[0m\u001b[0m\n\u001b[1;32m      7\u001b[0m \u001b[0;34m\u001b[0m\u001b[0m\n",
      "\u001b[0;31mValueError\u001b[0m: shapes (398,) and (800,398) not aligned: 398 (dim 0) != 800 (dim 0)"
     ]
    }
   ],
   "source": [
    "ws = W.T\n",
    "masks = np.zeros((len(W.T),) + sndabft.shape)\n",
    "for i,wi in enumerate(W.T):\n",
    "    ws[i]= wi / np.linalg.norm(wi)\n",
    "    energyi = ws[i].dot(abs(sndabft).T)\n",
    "    masks[i] = np.outer( energyi, ws[i] )\n",
    "    \n",
    "maska = (masks[0]) > (masks[1])\n",
    "maskb = (masks[1]) > (masks[0])\n",
    "\n",
    "plt.figure();\n",
    "plt.subplot(211); plt.plot( ws[0].dot(abs(sndabft).T)/1e5 )\n",
    "plt.subplot(212); plt.plot( ws[1].dot(abs(sndabft).T)/1e5 )\n",
    "plt.figure(); plt.imshow(maska.T, aspect=.2, cmap='bone')\n",
    "plt.figure(); plt.imshow(maskb.T, aspect=.2, cmap='bone')"
   ]
  },
  {
   "cell_type": "code",
   "execution_count": 21,
   "metadata": {
    "collapsed": false
   },
   "outputs": [
    {
     "ename": "NameError",
     "evalue": "name 'maska' is not defined",
     "output_type": "error",
     "traceback": [
      "\u001b[0;31m---------------------------------------------------------------------------\u001b[0m",
      "\u001b[0;31mNameError\u001b[0m                                 Traceback (most recent call last)",
      "\u001b[0;32m<ipython-input-21-28ee1ce6f28e>\u001b[0m in \u001b[0;36m<module>\u001b[0;34m()\u001b[0m\n\u001b[0;32m----> 1\u001b[0;31m \u001b[0msndareconft\u001b[0m \u001b[0;34m=\u001b[0m \u001b[0mmaska\u001b[0m\u001b[0;34m*\u001b[0m\u001b[0mabs\u001b[0m\u001b[0;34m(\u001b[0m\u001b[0msndabft\u001b[0m\u001b[0;34m)\u001b[0m\u001b[0;34m*\u001b[0m\u001b[0mnp\u001b[0m\u001b[0;34m.\u001b[0m\u001b[0mexp\u001b[0m\u001b[0;34m(\u001b[0m \u001b[0;36m1j\u001b[0m\u001b[0;34m*\u001b[0m \u001b[0mnp\u001b[0m\u001b[0;34m.\u001b[0m\u001b[0mangle\u001b[0m\u001b[0;34m(\u001b[0m\u001b[0msndabft\u001b[0m\u001b[0;34m)\u001b[0m\u001b[0;34m)\u001b[0m  \u001b[0;31m# Apply mask A\u001b[0m\u001b[0;34m\u001b[0m\u001b[0m\n\u001b[0m\u001b[1;32m      2\u001b[0m \u001b[0msndarecon\u001b[0m \u001b[0;34m=\u001b[0m \u001b[0mistft\u001b[0m\u001b[0;34m(\u001b[0m \u001b[0msndareconft\u001b[0m\u001b[0;34m,\u001b[0m \u001b[0mfs\u001b[0m\u001b[0;34m,\u001b[0m \u001b[0;36m5\u001b[0m\u001b[0;34m,\u001b[0m \u001b[0;36m0.025\u001b[0m \u001b[0;34m)\u001b[0m\u001b[0;34m\u001b[0m\u001b[0m\n\u001b[1;32m      3\u001b[0m \u001b[0;34m\u001b[0m\u001b[0m\n\u001b[1;32m      4\u001b[0m \u001b[0msndbreconft\u001b[0m \u001b[0;34m=\u001b[0m \u001b[0mmaskb\u001b[0m\u001b[0;34m*\u001b[0m\u001b[0mabs\u001b[0m\u001b[0;34m(\u001b[0m\u001b[0msndabft\u001b[0m\u001b[0;34m)\u001b[0m\u001b[0;34m*\u001b[0m\u001b[0mnp\u001b[0m\u001b[0;34m.\u001b[0m\u001b[0mexp\u001b[0m\u001b[0;34m(\u001b[0m \u001b[0;36m1j\u001b[0m\u001b[0;34m*\u001b[0m \u001b[0mnp\u001b[0m\u001b[0;34m.\u001b[0m\u001b[0mangle\u001b[0m\u001b[0;34m(\u001b[0m\u001b[0msndabft\u001b[0m\u001b[0;34m)\u001b[0m\u001b[0;34m)\u001b[0m  \u001b[0;31m# Apply mask B = 1 - A\u001b[0m\u001b[0;34m\u001b[0m\u001b[0m\n\u001b[1;32m      5\u001b[0m \u001b[0msndbrecon\u001b[0m \u001b[0;34m=\u001b[0m \u001b[0mistft\u001b[0m\u001b[0;34m(\u001b[0m \u001b[0msndbreconft\u001b[0m\u001b[0;34m,\u001b[0m \u001b[0mfs\u001b[0m\u001b[0;34m,\u001b[0m \u001b[0;36m5\u001b[0m\u001b[0;34m,\u001b[0m \u001b[0;36m0.025\u001b[0m \u001b[0;34m)\u001b[0m\u001b[0;34m\u001b[0m\u001b[0m\n",
      "\u001b[0;31mNameError\u001b[0m: name 'maska' is not defined"
     ]
    }
   ],
   "source": [
    "sndareconft = maska*abs(sndabft)*np.exp( 1j* np.angle(sndabft))  # Apply mask A\n",
    "sndarecon = istft( sndareconft, fs, 5, 0.025 )\n",
    "\n",
    "sndbreconft = maskb*abs(sndabft)*np.exp( 1j* np.angle(sndabft))  # Apply mask B = 1 - A\n",
    "sndbrecon = istft( sndbreconft, fs, 5, 0.025 )"
   ]
  },
  {
   "cell_type": "markdown",
   "metadata": {},
   "source": [
    "## Play audio"
   ]
  },
  {
   "cell_type": "code",
   "execution_count": null,
   "metadata": {
    "collapsed": false
   },
   "outputs": [],
   "source": [
    "print('Original signal')\n",
    "display(Audio(sndab, rate=fs))\n",
    "print('Reconstruction of signal A')\n",
    "display(Audio(sndarecon,rate=fs))\n",
    "print('Reconstruction of signal B')\n",
    "display(Audio(sndbrecon,rate=fs))"
   ]
  },
  {
   "cell_type": "code",
   "execution_count": null,
   "metadata": {
    "collapsed": true
   },
   "outputs": [],
   "source": []
  }
 ],
 "metadata": {
  "kernelspec": {
   "display_name": "Python 3",
   "language": "python",
   "name": "python3"
  },
  "language_info": {
   "codemirror_mode": {
    "name": "ipython",
    "version": 3
   },
   "file_extension": ".py",
   "mimetype": "text/x-python",
   "name": "python",
   "nbconvert_exporter": "python",
   "pygments_lexer": "ipython3",
   "version": "3.5.2"
  }
 },
 "nbformat": 4,
 "nbformat_minor": 2
}
