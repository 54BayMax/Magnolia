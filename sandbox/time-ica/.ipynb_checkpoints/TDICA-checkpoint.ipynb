{
 "cells": [
  {
   "cell_type": "code",
   "execution_count": null,
   "metadata": {
    "collapsed": false
   },
   "outputs": [],
   "source": [
    "import numpy as np\n",
    "import gennoisy\n",
    "\n",
    "import matplotlib.pylab as plt\n",
    "import pandas as pd\n",
    "\n",
    "%matplotlib inline"
   ]
  },
  {
   "cell_type": "code",
   "execution_count": 1,
   "metadata": {
    "collapsed": false
   },
   "outputs": [
    {
     "ename": "NameError",
     "evalue": "name 'gennoisy' is not defined",
     "output_type": "error",
     "traceback": [
      "\u001b[0;31m---------------------------------------------------------------------------\u001b[0m",
      "\u001b[0;31mNameError\u001b[0m                                 Traceback (most recent call last)",
      "\u001b[0;32m<ipython-input-1-2e0a44b1ae6f>\u001b[0m in \u001b[0;36m<module>\u001b[0;34m()\u001b[0m\n\u001b[0;32m----> 1\u001b[0;31m \u001b[0mX\u001b[0m\u001b[0;34m,\u001b[0m\u001b[0mS\u001b[0m\u001b[0;34m,\u001b[0m\u001b[0mA\u001b[0m\u001b[0;34m,\u001b[0m\u001b[0mN\u001b[0m \u001b[0;34m=\u001b[0m \u001b[0mgennoisy\u001b[0m\u001b[0;34m.\u001b[0m\u001b[0mgennoisy\u001b[0m\u001b[0;34m(\u001b[0m\u001b[0;34m)\u001b[0m\u001b[0;34m\u001b[0m\u001b[0m\n\u001b[0m\u001b[1;32m      2\u001b[0m \u001b[0mplt\u001b[0m\u001b[0;34m.\u001b[0m\u001b[0mplot\u001b[0m\u001b[0;34m(\u001b[0m\u001b[0mX\u001b[0m\u001b[0;34m)\u001b[0m\u001b[0;34m;\u001b[0m \u001b[0mplt\u001b[0m\u001b[0;34m.\u001b[0m\u001b[0mtitle\u001b[0m\u001b[0;34m(\u001b[0m\u001b[0mX\u001b[0m\u001b[0;34m)\u001b[0m\u001b[0;34m\u001b[0m\u001b[0m\n",
      "\u001b[0;31mNameError\u001b[0m: name 'gennoisy' is not defined"
     ]
    }
   ],
   "source": [
    "X,S,A,N = gennoisy.gennoisy()\n",
    "# plt.plot(X)\n",
    "# plt.title('Mixed Signals (3 channels)')\n",
    "# plt.figure()\n",
    "# plt.plot(S)\n",
    "# plt.title('Original Signals')"
   ]
  },
  {
   "cell_type": "code",
   "execution_count": null,
   "metadata": {
    "collapsed": true
   },
   "outputs": [],
   "source": [
    "W = np.random.rand(*A.shape)"
   ]
  },
  {
   "cell_type": "code",
   "execution_count": null,
   "metadata": {
    "collapsed": false
   },
   "outputs": [],
   "source": [
    "def det(X):\n",
    "    return np.linalg.det(X)\n",
    "\n",
    "def icacost(W,X):\n",
    "    detW = det(W)\n",
    "    W.dot(X)\n",
    "\n",
    "def kurtosis(X):\n",
    "    return ( (X - sigmean(X))**4 ).mean(axis=np.argmax(X.shape))\n",
    "    \n",
    "def sigmean(X):\n",
    "    return X.mean(axis=np.argmax(X.shape) )\n",
    "    \n",
    "def numgrad(A, X, Z):\n",
    "    return A.T + X.T.dot(Z)\n",
    "\n",
    "def sigmoid(X):\n",
    "    return 1. / (1 + np.exp(-X))\n",
    "\n",
    "    \n",
    "# W.dot(X.T).sum(axis=0)\n",
    "\n",
    "for i in range(100):\n",
    "    Py = sigmoid( W.dot(X.T) ).T\n",
    "    dW = W + ((1. - 2*Py.T).dot( W.dot(X.T).T) ).dot(W)\n",
    "    W = W + 0.001*dW\n",
    "    print(W)"
   ]
  }
 ],
 "metadata": {
  "kernelspec": {
   "display_name": "Python 3",
   "language": "python",
   "name": "python3"
  },
  "language_info": {
   "codemirror_mode": {
    "name": "ipython",
    "version": 3
   },
   "file_extension": ".py",
   "mimetype": "text/x-python",
   "name": "python",
   "nbconvert_exporter": "python",
   "pygments_lexer": "ipython3",
   "version": "3.5.2"
  }
 },
 "nbformat": 4,
 "nbformat_minor": 2
}
