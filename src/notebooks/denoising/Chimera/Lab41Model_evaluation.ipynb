{
 "cells": [
  {
   "cell_type": "markdown",
   "metadata": {},
   "source": [
    "# Lab41 model BSS Eval example notebook\n",
    "\n",
    "This notebook contains an example of computing SDR, SIR, and SAR improvements on signals separated using Lab41's model.  "
   ]
  },
  {
   "cell_type": "code",
   "execution_count": null,
   "metadata": {
    "collapsed": true
   },
   "outputs": [],
   "source": [
    "# Generic imports\n",
    "import json\n",
    "import numpy as np\n",
    "import pandas as pd\n",
    "\n",
    "# Imports to play audio\n",
    "# Plotting imports\n",
    "import IPython\n",
    "from IPython.display import Audio, display\n",
    "from matplotlib import pyplot as plt\n",
    "fig_size = [0,0]\n",
    "fig_size[0] = 8\n",
    "fig_size[1] = 4\n",
    "plt.rcParams[\"figure.figsize\"] = fig_size\n",
    "\n",
    "# Import Lab41's separation model\n",
    "from magnolia.dnnseparate.L41model import L41Model\n",
    "\n",
    "# Import utilities for using the model\n",
    "from magnolia.utils.postprocessing import convert_preprocessing_parameters\n",
    "from magnolia.features.preprocessing import undo_preprocessing\n",
    "from magnolia.iterate.mix_iterator import MixIterator\n",
    "from magnolia.utils.clustering_utils import l41_clustering_separate, get_cluster_masks\n",
    "from magnolia.utils.bss_eval import bss_eval_sources"
   ]
  },
  {
   "cell_type": "markdown",
   "metadata": {},
   "source": [
    "### Hyperparameters\n",
    "\n",
    "* **model_location** : Specify the location of where to store the model (CPU or GPU)\n",
    "* **model_settings** : Path to model configuration settings\n",
    "* **mixes**          : List of mix configuration settings to source-separate\n",
    "* **from_disk**      : Whether or not to read mixes from disk"
   ]
  },
  {
   "cell_type": "code",
   "execution_count": null,
   "metadata": {
    "collapsed": true
   },
   "outputs": [],
   "source": [
    "# from model settings\n",
    "model_params = {\n",
    "    'nonlinearity': 'tanh',\n",
    "    'layer_size': 600,\n",
    "    'embedding_size': 40,\n",
    "    'normalize': 'False'\n",
    "}\n",
    "uid_settings = '/local_data/magnolia/pipeline_data/date_2017_09_27_time_13_25/settings/assign_uids_LibriSpeech_UrbanSound8K.json'\n",
    "model_save_base = '/local_data/magnolia/experiment_data/date_2017_09_28_time_13_14/aux/model_saves/l41'\n",
    "\n",
    "model_location = '/cpu:0'\n",
    "model_settings = ''\n",
    "mixes = ['/local_data/magnolia/pipeline_data/date_2017_09_27_time_13_25/settings/mixing_LibriSpeech_UrbanSound8K_test_out_of_sample.json']\n",
    "from_disk = True"
   ]
  },
  {
   "cell_type": "markdown",
   "metadata": {},
   "source": [
    "### Data iterator\n",
    "\n",
    "Create a mix iterator that loops through the mixes one at a time."
   ]
  },
  {
   "cell_type": "code",
   "execution_count": null,
   "metadata": {
    "collapsed": true
   },
   "outputs": [],
   "source": [
    "mixer = MixIterator(mixes_settings_filenames=mixes,\n",
    "                    batch_size=1,\n",
    "                    from_disk=from_disk)"
   ]
  },
  {
   "cell_type": "markdown",
   "metadata": {},
   "source": [
    "### Initialize and load an instance of Lab41's source separation model"
   ]
  },
  {
   "cell_type": "code",
   "execution_count": null,
   "metadata": {
    "collapsed": true
   },
   "outputs": [],
   "source": [
    "model = L41Model(nonlinearity='tanh', normalize=False)\n",
    "model.load(\"Path to model file\")"
   ]
  },
  {
   "cell_type": "markdown",
   "metadata": {},
   "source": [
    "### Define some helper functions for evaluating BSS metrics"
   ]
  },
  {
   "cell_type": "code",
   "execution_count": null,
   "metadata": {
    "collapsed": true
   },
   "outputs": [],
   "source": [
    "def invert_spectrogram(magnitude,phase):\n",
    "    \"\"\"\n",
    "    Function to invert stft spectrograms using the specified hyperparameters\n",
    "    \"\"\"\n",
    "    return istft(np.square(magnitude)*np.exp(phase*1.0j),sample_rate,None,overlap,two_sided=False,fft_size=fft_size)\n",
    "\n",
    "def bss_eval_sample(mixer, num_sources):\n",
    "    \"\"\"\n",
    "    Function to generate a sample from mixer and evaluate BSS metrics on it\n",
    "    \"\"\"\n",
    "    \n",
    "    # Generate a sample\n",
    "    data = next(mixer)\n",
    "    \n",
    "    # Get the waveforms for the mixed signal and the true sources\n",
    "    mixes = [invert_spectrogram(np.abs(data[0]),np.unwrap(np.angle(data[0]))) for i in range(1,num_sources + 1)]\n",
    "    sources = [invert_spectrogram(np.abs(data[i][1]),np.unwrap(np.angle(data[i][1]))) for i in range(1,num_sources + 1)]\n",
    "    \n",
    "    # Undo the preemphasis that was applied to the input signals\n",
    "    mixes = [undo_preemphasis(mix) for mix in mixes]\n",
    "    sources = [undo_preemphasis(source) for source in sources]\n",
    "    \n",
    "    # Stack the input mix and the true sources into arrays\n",
    "    input_mix = np.stack(mixes)\n",
    "    reference_sources = np.stack(sources)\n",
    "    \n",
    "    # Use the model to separate the signal into the desired number of sources\n",
    "    estimated_sources = clustering_separate(mixes[0],1e4,model,num_sources)\n",
    "    \n",
    "    # Compute the SDR, SIR, SAR of the input mixes\n",
    "    do_nothing = bss_eval_sources(reference_sources, input_mix)\n",
    "    \n",
    "    # Compute the SDR, SIR, SAR of the separated sources\n",
    "    do_something = bss_eval_sources(reference_sources, estimated_sources)\n",
    "    \n",
    "    # Compute the SDR, SIR, SAR improvement due to separation\n",
    "    sdr = do_something[0] - do_nothing[0]\n",
    "    sir = do_something[1] - do_nothing[1]\n",
    "    sar = do_something[2] - do_nothing[2]\n",
    "    \n",
    "    return {'SDR': sdr, 'SIR': sir, 'SAR': sar}"
   ]
  },
  {
   "cell_type": "markdown",
   "metadata": {},
   "source": [
    "## Evaluation of in set BSS metrics\n",
    "\n",
    "This section shows the evaluation of SDR, SIR, and SAR on mixtures of speakers that are in the training set."
   ]
  },
  {
   "cell_type": "markdown",
   "metadata": {},
   "source": [
    "### Get the speaker keys corresponding to F and M speakers in the training set"
   ]
  },
  {
   "cell_type": "code",
   "execution_count": null,
   "metadata": {
    "collapsed": true
   },
   "outputs": [],
   "source": [
    "libritrain = \"Path to training dataset\"\n",
    "\n",
    "with open('Magnolia/data/librispeech/authors/train-clean-100-F.txt','r') as speakers:\n",
    "    keys = speakers.read().splitlines()\n",
    "    speaker_keys = keys[:]\n",
    "    in_set_F = keys[:]\n",
    "    \n",
    "with open('Magnolia/data/librispeech/authors/train-clean-100-M.txt','r') as speakers:\n",
    "    keys = speakers.read().splitlines()\n",
    "    speaker_keys += keys\n",
    "    in_set_M = keys[:]"
   ]
  },
  {
   "cell_type": "markdown",
   "metadata": {},
   "source": [
    "### Create mixers for in set FF, FM, MM, and all speaker mixes.\n",
    "\n",
    "The splits used in creating each SplitsIterator should be the same as the ones used in training the model."
   ]
  },
  {
   "cell_type": "code",
   "execution_count": null,
   "metadata": {
    "collapsed": true
   },
   "outputs": [],
   "source": [
    "# Create an iterator over the male speakers in set and set the active split to the test split\n",
    "maleiter = SplitsIterator([0.8,0.1,0.1], libritrain, speaker_keys=in_set_M, shape=(150,fft_size//2+1), return_key=True)\n",
    "maleiter.set_split(2)\n",
    "\n",
    "# Create an iterator over the female speakers in set and set the active split to the test split\n",
    "femaleiter = SplitsIterator([0.8,0.1,0.1], libritrain, speaker_keys=in_set_F, shape=(150,fft_size//2+1), return_key=True)\n",
    "femaleiter.set_split(2)\n",
    "\n",
    "# Create mixers for each type of possible speaker mixes\n",
    "MMmixer = SupervisedMixer([maleiter,maleiter], shape=(150,fft_size//2+1), \n",
    "                          mix_method='add', diffseed=True)\n",
    "FFmixer = SupervisedMixer([femaleiter,femaleiter], shape=(150,fft_size//2+1), \n",
    "                          mix_method='add', diffseed=True)\n",
    "MFmixer = SupervisedMixer([maleiter,femaleiter], shape=(150,fft_size//2+1), \n",
    "                          mix_method='add', diffseed=True)\n",
    "FMmixer = SupervisedMixer([femaleiter,maleiter], shape=(150,fft_size//2+1), \n",
    "                          mix_method='add', diffseed=True)\n",
    "mixers = [MMmixer, FFmixer, MFmixer, FMmixer]\n",
    "\n",
    "# Some book keeping in preparation for evaluating on samples from the mixers\n",
    "mixerdesc = ['MM','FF','MF','FM']\n",
    "mixersSDR = [[],[],[],[]]\n",
    "mixersSIR = [[],[],[],[]]\n",
    "mixersSAR = [[],[],[],[]]\n",
    "    \n",
    "i=0"
   ]
  },
  {
   "cell_type": "markdown",
   "metadata": {},
   "source": [
    "### Evaluate BSS metrics on 500 samples from each mixer"
   ]
  },
  {
   "cell_type": "code",
   "execution_count": null,
   "metadata": {
    "collapsed": true
   },
   "outputs": [],
   "source": [
    "# Number of samples to evaluate\n",
    "num_samples = 500\n",
    "\n",
    "# Get the starting i\n",
    "try:\n",
    "    starti = i\n",
    "except:\n",
    "    starti = 0\n",
    "\n",
    "# Iterate over samples, computing BSS metrics for samples from each mixer\n",
    "for i in range(starti, num_samples):\n",
    "    for j,mixer in enumerate(mixers):\n",
    "        \n",
    "        # Compute SDR, SIR, SAR for this mixer\n",
    "        evals = bss_eval_sample(mixer, 2)\n",
    "        \n",
    "        # Store the results\n",
    "        mixersSDR[j].append( 1/(2)*(evals['SDR'][0] + evals['SDR'][1]) )\n",
    "        mixersSIR[j].append( 1/(2)*(evals['SIR'][0] + evals['SIR'][1]) )\n",
    "        mixersSAR[j].append( 1/(2)*(evals['SAR'][0] + evals['SAR'][1]) )\n",
    "        \n",
    "        # Compute the mean SDR, SIR, SAR\n",
    "        MMSDR = np.mean(mixersSDR[0])\n",
    "        FFSDR = np.mean(mixersSDR[1])\n",
    "        MFSDR = np.mean(mixersSDR[2])\n",
    "        FMSDR = np.mean(mixersSDR[3])\n",
    "\n",
    "    # Clear the display and show the progress so far\n",
    "    IPython.display.clear_output(wait=True)\n",
    "    print(str(i)+':' + \n",
    "                 '  MM: ' + str(MMSDR) +\n",
    "                 ', FF: ' + str(FFSDR) +\n",
    "                 ', MF: ' + str((MFSDR+FMSDR)/2) +\n",
    "                 ', All: '+ str((MMSDR+FMSDR+MFSDR+FFSDR)/4))"
   ]
  },
  {
   "cell_type": "markdown",
   "metadata": {},
   "source": [
    "### Evaluate BSS metrics on in set mixtures of 3 speakers"
   ]
  },
  {
   "cell_type": "code",
   "execution_count": null,
   "metadata": {
    "collapsed": true
   },
   "outputs": [],
   "source": [
    "# Create an iterator over all the speakers with the same splits used in training and set the active split\n",
    "# to the test split\n",
    "siteratorT = SplitsIterator([0.8,0.1,0.1], libritrain, speaker_keys=speaker_keys, shape=datashape, return_key=True)\n",
    "siteratorT.set_split(2)\n",
    "\n",
    "# Make a mixer for 3-speaker mixes\n",
    "TImixer = SupervisedMixer([siteratorT,siteratorT,siteratorT], shape=(150,fft_size//2), \n",
    "                        mix_method='add', diffseed=True)\n",
    "\n",
    "# Book keeping to store the results of the evaluation\n",
    "iallmixers = [TImixer]\n",
    "iallmixerdesc = ['all']\n",
    "iallmixersSDR = [[],[],[],[]]\n",
    "iallmixersSIR = [[],[],[],[]]\n",
    "iallmixersSAR = [[],[],[],[]]\n",
    "iallTSDR = 0\n",
    "\n",
    "i=0"
   ]
  },
  {
   "cell_type": "markdown",
   "metadata": {},
   "source": [
    "### Evaluate BSS metrics on 500 samples of in set mixtures of 3 speakers"
   ]
  },
  {
   "cell_type": "code",
   "execution_count": null,
   "metadata": {
    "collapsed": true
   },
   "outputs": [],
   "source": [
    "num_samples = 500\n",
    "try:\n",
    "    starti = i\n",
    "except:\n",
    "    starti = 0\n",
    "\n",
    "# Iterate over samples from the 3 speaker mixer\n",
    "while i < num_samples:\n",
    "    for j,mixer in enumerate(iallmixers):\n",
    "        # Compute BSS evaluation metrics\n",
    "        evals = bss_eval_sample(mixer, 3)\n",
    "        \n",
    "        # Store the results\n",
    "        iallmixersSDR[j].append( 1/(3)*(evals['SDR'][0] + evals['SDR'][1] + evals['SDR'][2]) )\n",
    "        iallmixersSIR[j].append( 1/(3)*(evals['SIR'][0] + evals['SIR'][1] + evals['SIR'][2]) )\n",
    "        iallmixersSAR[j].append( 1/(3)*(evals['SAR'][0] + evals['SAR'][1] + evals['SAR'][2]) )\n",
    "        \n",
    "        # Get the mean SDR\n",
    "        iallTSDR = np.mean(iallmixersSDR[0])\n",
    "\n",
    "        i += 1\n",
    "    \n",
    "    # Clear display and show current results\n",
    "    IPython.display.clear_output(wait=True)\n",
    "    print(str(i)+':' + \n",
    "                 '  T: ' + str(iallTSDR))"
   ]
  },
  {
   "cell_type": "markdown",
   "metadata": {},
   "source": [
    "## Evaluation of out of set BSS metrics\n",
    "\n",
    "This section shows the evaluation of SDR, SIR, SAR on mixtures of speakers that were not in the training set"
   ]
  },
  {
   "cell_type": "markdown",
   "metadata": {},
   "source": [
    "### Get the speaker keys for F and M speakers from the test set"
   ]
  },
  {
   "cell_type": "code",
   "execution_count": null,
   "metadata": {
    "collapsed": true
   },
   "outputs": [],
   "source": [
    "with open('Magnolia/data/librispeech/authors/test-clean-F.txt','r') as speakers:\n",
    "    out_set_F = speakers.read().splitlines()\n",
    "\n",
    "with open('Magnolia/data/librispeech/authors/test-clean-M.txt','r') as speakers:\n",
    "    out_set_M = speakers.read().splitlines()\n",
    "    \n",
    "all_speakers = out_set_F + out_set_M"
   ]
  },
  {
   "cell_type": "markdown",
   "metadata": {},
   "source": [
    "### Create mixers for out of set FF FM MM, all, speaker mixes"
   ]
  },
  {
   "cell_type": "code",
   "execution_count": null,
   "metadata": {
    "collapsed": true
   },
   "outputs": [],
   "source": [
    "# Make an iterator over female speakers\n",
    "Fiterator = SplitsIterator([1], libritest, speaker_keys=out_set_F, shape=datashape, return_key=True)\n",
    "Fiterator.set_split(0)\n",
    "\n",
    "# Make an iterator over male speakers\n",
    "Miterator = SplitsIterator([1], libritest, speaker_keys=out_set_M, shape=datashape, return_key=True)\n",
    "Miterator.set_split(0)\n",
    "\n",
    "# Make an iterator over all speakers\n",
    "Aiterator = SplitsIterator([1], libritest, speaker_keys=all_speakers, shape=datashape, return_key=True)\n",
    "\n",
    "\n",
    "# Create mixers for each combination of speakers\n",
    "outsetFFmixer = SupervisedMixer([Fiterator,Fiterator], shape=datashape, \n",
    "                        mix_method='add', diffseed=True)\n",
    "outsetFMmixer = SupervisedMixer([Fiterator,Miterator], shape=datashape, \n",
    "                        mix_method='add', diffseed=True)\n",
    "outsetMMmixer = SupervisedMixer([Miterator,Miterator], shape=datashape, \n",
    "                        mix_method='add', diffseed=True)\n",
    "outsetAAmixer = SupervisedMixer([Aiterator,Aiterator], shape=datashape, \n",
    "                        mix_method='add', diffseed=True)"
   ]
  },
  {
   "cell_type": "markdown",
   "metadata": {},
   "source": [
    "Evaluation of the BSS metrics for out of set speakers works as above for in set speakers using these mixers."
   ]
  }
 ],
 "metadata": {
  "anaconda-cloud": {},
  "kernelspec": {
   "display_name": "tensorflow1.1",
   "language": "python",
   "name": "tf1.1"
  },
  "language_info": {
   "codemirror_mode": {
    "name": "ipython",
    "version": 3
   },
   "file_extension": ".py",
   "mimetype": "text/x-python",
   "name": "python",
   "nbconvert_exporter": "python",
   "pygments_lexer": "ipython3",
   "version": "3.5.4"
  }
 },
 "nbformat": 4,
 "nbformat_minor": 2
}
