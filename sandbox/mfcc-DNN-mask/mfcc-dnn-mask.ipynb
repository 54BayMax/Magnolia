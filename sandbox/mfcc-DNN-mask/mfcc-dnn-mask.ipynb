{
 "cells": [
  {
   "cell_type": "markdown",
   "metadata": {},
   "source": [
    "# MFCC Features for Masks\n",
    "\n",
    "Simple example of linear regression being used in conjunction with MFCCs."
   ]
  },
  {
   "cell_type": "code",
   "execution_count": 1,
   "metadata": {
    "collapsed": false
   },
   "outputs": [],
   "source": [
    "# Speech Libraries\n",
    "from python_speech_features import mfcc, get_filterbanks\n",
    "from python_speech_features.sigproc import deframesig\n",
    "from psf_supplement import specdecomp\n",
    "\n",
    "## Wave libraries\n",
    "from IPython.display import Audio\n",
    "from IPython.display import display\n",
    "import scipy.io.wavfile as wav\n",
    "\n",
    "## Standard python libraries\n",
    "import numpy as np\n",
    "import matplotlib.pylab as plt\n",
    "%matplotlib inline"
   ]
  },
  {
   "cell_type": "markdown",
   "metadata": {},
   "source": [
    "## Mixing two signals together"
   ]
  },
  {
   "cell_type": "code",
   "execution_count": 3,
   "metadata": {
    "collapsed": false
   },
   "outputs": [],
   "source": [
    "audio_dir = \"../../../data/sisec-dev/\"\n",
    "fs, snda = wav.read(audio_dir+\"dev_Ca1_Ce_A_src.wav\")\n",
    "fs, sndb = wav.read(audio_dir+\"dev_Ca1_Ce_B_src.wav\")\n",
    "\n",
    "sndab = snda+sndb"
   ]
  },
  {
   "cell_type": "markdown",
   "metadata": {},
   "source": [
    "## Parameters"
   ]
  },
  {
   "cell_type": "code",
   "execution_count": 4,
   "metadata": {
    "collapsed": false
   },
   "outputs": [],
   "source": [
    "# Parameters\n",
    "nfilt=64\n",
    "numcep=64\n",
    "nfft=512\n",
    "winlen=0.01\n",
    "winstep=0.005\n",
    "ceplifter=0"
   ]
  },
  {
   "cell_type": "markdown",
   "metadata": {},
   "source": [
    "## Feature extraction and spectral decomposition"
   ]
  },
  {
   "cell_type": "code",
   "execution_count": 5,
   "metadata": {
    "collapsed": false
   },
   "outputs": [],
   "source": [
    "# We can extract MFCC features from the combination of A & B signals\n",
    "mfcc_feat = mfcc(sndab,fs,nfilt=nfilt,numcep=numcep,nfft=nfft,\n",
    "                 winlen=winlen,winstep=winstep,ceplifter=ceplifter,\n",
    "                 appendEnergy=False)\n",
    "\n",
    "# Since python_speech_features takes spectrograms differently than \n",
    "# you or I might, I've included the library in psf_supplement.py.\n",
    "mfcc_magni = specdecomp(sndab,samplerate=fs,nfft=nfft,\n",
    "                        winlen=winlen,winstep=winstep,decomp='abs')\n",
    "mfcc_phase = specdecomp(sndab,samplerate=fs,nfft=nfft,\n",
    "                        winlen=winlen,winstep=winstep,decomp='phase')\n",
    "\n",
    "# Labeled mask requires situations where the desired signal is larger \n",
    "# than the noise. In this case, we require magnitude responses of signals\n",
    "# A and B (the signal and noise).\n",
    "magni_A = specdecomp(snda,samplerate=fs,nfft=nfft,\n",
    "                     winlen=winlen,winstep=winstep,decomp='abs')\n",
    "magni_B = specdecomp(sndb,samplerate=fs,nfft=nfft,\n",
    "                     winlen=winlen,winstep=winstep,decomp='abs')\n",
    "\n",
    "# Define the mask\n",
    "mask = magni_A > magni_B"
   ]
  },
  {
   "cell_type": "markdown",
   "metadata": {},
   "source": [
    "## Deep Neural Network Solution"
   ]
  },
  {
   "cell_type": "code",
   "execution_count": 9,
   "metadata": {
    "collapsed": false
   },
   "outputs": [],
   "source": [
    "import os\n",
    "os.environ['KERAS_BACKEND']= \"tensorflow\"\n",
    "import keras\n",
    "from keras.models import Sequential\n",
    "from keras.optimizers import Adam\n",
    "from keras.layers.core import Dense, Activation, Dropout, Lambda\n",
    "from keras.objectives import binary_crossentropy\n",
    "\n",
    "highest_val_F1=0\n",
    "model = Sequential()\n",
    "model.add(Dense(input_dim=30, output_dim=8192, init=\"uniform\"))\n",
    "model.add(Activation(\"relu\"))\n",
    "model.add(Dropout(0.5))\n",
    "model.add(Dense(input_dim=8192, output_dim=2048, init=\"uniform\"))\n",
    "model.add(Activation(\"relu\"))\n",
    "model.add(Dense(input_dim=2048, output_dim=300, init=\"uniform\"))\n",
    "model.add(Activation(\"relu\"))\n",
    "model.add(Dense(input_dim=300, output_dim=300, init=\"uniform\"))\n",
    "model.add(Activation(\"linear\"))\n"
   ]
  },
  {
   "cell_type": "markdown",
   "metadata": {},
   "source": [
    "## Recover FFT magnitude\n",
    "\n",
    "First recover the magnitude response through power spectrum."
   ]
  },
  {
   "cell_type": "code",
   "execution_count": null,
   "metadata": {
    "collapsed": false
   },
   "outputs": [],
   "source": [
    "mask_recon = (A @ mfcc_feat.T).T\n",
    "snda_recon = (mask_recon * magni_A) * np.exp( 1j *  mfcc_phase )\n",
    "snda_recon = np.fft.irfft( snda_recon )\n",
    "snda_recon = snda_recon[:,:(int(fs*winlen))]\n",
    "\n",
    "snda_recon = deframesig(snda_recon, 0, int(fs*winlen), int(fs*winstep))"
   ]
  },
  {
   "cell_type": "code",
   "execution_count": null,
   "metadata": {
    "collapsed": false,
    "scrolled": false
   },
   "outputs": [],
   "source": [
    "snda_recon = snda_recon.astype(np.int16)\n",
    "plt.subplot(121); plt.imshow(np.log(mfcc_magni),aspect=0.4); \n",
    "plt.title('Original spectrum'); plt.colorbar(); plt.ylabel('Time (Sample)')\n",
    "plt.subplot(122); plt.imshow(np.log(magni_A),aspect=0.4); \n",
    "plt.title('Reconstructed spectrum'); plt.colorbar(); plt.ylabel('Time (Sample)')\n",
    "display(Audio(snda,rate=fs))\n",
    "display(Audio(snda_recon,rate=fs))\n"
   ]
  },
  {
   "cell_type": "code",
   "execution_count": null,
   "metadata": {
    "collapsed": true
   },
   "outputs": [],
   "source": []
  }
 ],
 "metadata": {
  "kernelspec": {
   "display_name": "Python 3",
   "language": "python",
   "name": "python3"
  },
  "language_info": {
   "codemirror_mode": {
    "name": "ipython",
    "version": 3
   },
   "file_extension": ".py",
   "mimetype": "text/x-python",
   "name": "python",
   "nbconvert_exporter": "python",
   "pygments_lexer": "ipython3",
   "version": "3.5.2"
  }
 },
 "nbformat": 4,
 "nbformat_minor": 2
}
