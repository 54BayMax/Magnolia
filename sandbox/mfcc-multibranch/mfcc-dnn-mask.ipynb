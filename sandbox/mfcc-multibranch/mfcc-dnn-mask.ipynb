{
 "cells": [
  {
   "cell_type": "markdown",
   "metadata": {},
   "source": [
    "# MFCC Features for Masks\n",
    "\n",
    "Simple example of linear regression being used in conjunction with MFCCs."
   ]
  },
  {
   "cell_type": "code",
   "execution_count": 2,
   "metadata": {
    "collapsed": false
   },
   "outputs": [],
   "source": [
    "# Speech Libraries\n",
    "from python_speech_features import mfcc, get_filterbanks\n",
    "from python_speech_features.sigproc import deframesig\n",
    "from psf_supplement import specdecomp\n",
    "\n",
    "## Wave libraries\n",
    "from IPython.display import Audio\n",
    "from IPython.display import display\n",
    "import scipy.io.wavfile as wav\n",
    "\n",
    "## Standard python libraries\n",
    "import numpy as np\n",
    "import matplotlib.pylab as plt\n",
    "%matplotlib inline"
   ]
  },
  {
   "cell_type": "markdown",
   "metadata": {},
   "source": [
    "## Mixing two signals together"
   ]
  },
  {
   "cell_type": "code",
   "execution_count": 3,
   "metadata": {
    "collapsed": false
   },
   "outputs": [],
   "source": [
    "audio_dir = \"/data/fs4/datasets/magnolia/sisec/dev/\"\n",
    "fs, snda = wav.read(audio_dir+\"dev_Ca1_Ce_A_src.wav\")\n",
    "fs, sndb = wav.read(audio_dir+\"dev_Ca1_Ce_B_src.wav\")\n",
    "fs, sndc = wav.read(audio_dir+\"dev_Ca1_Co_A_src.wav\")\n",
    "\n",
    "\n",
    "sndabc = snda+sndb+sndc"
   ]
  },
  {
   "cell_type": "markdown",
   "metadata": {},
   "source": [
    "## Parameters"
   ]
  },
  {
   "cell_type": "code",
   "execution_count": 4,
   "metadata": {
    "collapsed": false
   },
   "outputs": [],
   "source": [
    "# Parameters\n",
    "nfilt=64\n",
    "numcep=64\n",
    "nfft=512\n",
    "winlen=0.01\n",
    "winstep=0.005\n",
    "ceplifter=0"
   ]
  },
  {
   "cell_type": "markdown",
   "metadata": {},
   "source": [
    "## Feature extraction and spectral decomposition"
   ]
  },
  {
   "cell_type": "code",
   "execution_count": 6,
   "metadata": {
    "collapsed": false
   },
   "outputs": [],
   "source": [
    "# We can extract MFCC features from the combination of A & B signals\n",
    "mfcc_feat = mfcc(sndabc,fs,nfilt=nfilt,numcep=numcep,nfft=nfft,\n",
    "                 winlen=winlen,winstep=winstep,ceplifter=ceplifter,\n",
    "                 appendEnergy=False)\n",
    "\n",
    "# Since python_speech_features takes spectrograms differently than \n",
    "# you or I might, I've included the library in psf_supplement.py.\n",
    "mfcc_magni = specdecomp(sndabc,samplerate=fs,nfft=nfft,\n",
    "                        winlen=winlen,winstep=winstep,decomp='abs')\n",
    "mfcc_phase = specdecomp(sndabc,samplerate=fs,nfft=nfft,\n",
    "                        winlen=winlen,winstep=winstep,decomp='phase')\n",
    "\n",
    "# Labeled mask requires situations where the desired signal is larger \n",
    "# than the noise. In this case, we require magnitude responses of signals\n",
    "# A and B (the signal and noise).\n",
    "magni_A = specdecomp(snda,samplerate=fs,nfft=nfft,\n",
    "                     winlen=winlen,winstep=winstep,decomp='abs')\n",
    "magni_B = specdecomp(sndb,samplerate=fs,nfft=nfft,\n",
    "                     winlen=winlen,winstep=winstep,decomp='abs')\n",
    "magni_C = specdecomp(sndc,samplerate=fs,nfft=nfft,\n",
    "                     winlen=winlen,winstep=winstep,decomp='abs')\n",
    "\n",
    "\n",
    "# Define the mask\n",
    "mask_A = magni_A > (magni_B + magni_C)\n",
    "mask_B = magni_B > (magni_A + magni_C)\n",
    "mask_C = magni_C > (magni_B + magni_C)"
   ]
  },
  {
   "cell_type": "markdown",
   "metadata": {},
   "source": [
    "## Deep Neural Network Solution"
   ]
  },
  {
   "cell_type": "code",
   "execution_count": 7,
   "metadata": {
    "collapsed": false
   },
   "outputs": [
    {
     "name": "stderr",
     "output_type": "stream",
     "text": [
      "Using Theano backend.\n",
      "Using gpu device 0: GeForce GTX TITAN X (CNMeM is disabled, cuDNN 5110)\n",
      "/opt/conda/lib/python3.5/site-packages/theano/sandbox/cuda/__init__.py:600: UserWarning: Your cuDNN version is more recent than the one Theano officially supports. If you see any problems, try updating Theano or downgrading cuDNN to version 5.\n",
      "  warnings.warn(warn)\n"
     ]
    },
    {
     "ename": "NameError",
     "evalue": "name 'mask' is not defined",
     "output_type": "error",
     "traceback": [
      "\u001b[0;31m---------------------------------------------------------------------------\u001b[0m",
      "\u001b[0;31mNameError\u001b[0m                                 Traceback (most recent call last)",
      "\u001b[0;32m<ipython-input-7-45ee5e9f5eb0>\u001b[0m in \u001b[0;36m<module>\u001b[0;34m()\u001b[0m\n\u001b[1;32m     26\u001b[0m \u001b[0;34m\u001b[0m\u001b[0m\n\u001b[1;32m     27\u001b[0m \u001b[0;32mif\u001b[0m \u001b[0mcontinue_to_train\u001b[0m\u001b[0;34m:\u001b[0m\u001b[0;34m\u001b[0m\u001b[0m\n\u001b[0;32m---> 28\u001b[0;31m     \u001b[0mmodelloss\u001b[0m \u001b[0;34m=\u001b[0m \u001b[0mmodel\u001b[0m\u001b[0;34m.\u001b[0m\u001b[0mfit\u001b[0m\u001b[0;34m(\u001b[0m\u001b[0mmfcc_feat\u001b[0m\u001b[0;34m,\u001b[0m \u001b[0mmask\u001b[0m\u001b[0;34m,\u001b[0m \u001b[0mnb_epoch\u001b[0m\u001b[0;34m=\u001b[0m\u001b[0;36m100\u001b[0m\u001b[0;34m,\u001b[0m \u001b[0mbatch_size\u001b[0m\u001b[0;34m=\u001b[0m\u001b[0;36m32\u001b[0m\u001b[0;34m,\u001b[0m\u001b[0mverbose\u001b[0m\u001b[0;34m=\u001b[0m\u001b[0;36m2\u001b[0m\u001b[0;34m,\u001b[0m\u001b[0mshuffle\u001b[0m\u001b[0;34m=\u001b[0m\u001b[0;36m1\u001b[0m\u001b[0;34m)\u001b[0m\u001b[0;34m\u001b[0m\u001b[0m\n\u001b[0m\u001b[1;32m     29\u001b[0m \u001b[0;34m\u001b[0m\u001b[0m\n\u001b[1;32m     30\u001b[0m \u001b[0;32mif\u001b[0m \u001b[0msave_trained_model\u001b[0m\u001b[0;34m:\u001b[0m\u001b[0;34m\u001b[0m\u001b[0m\n",
      "\u001b[0;31mNameError\u001b[0m: name 'mask' is not defined"
     ]
    }
   ],
   "source": [
    "train_from_scratch = True\n",
    "continue_to_train = True\n",
    "# If you want to use a model: 'overfitted_dnn_mask.h5'\n",
    "save_trained_model = 'overfitted_dnn_mask.h5' \n",
    "load_trained_model = None\n",
    "\n",
    "import os\n",
    "# os.environ['KERAS_BACKEND']= \"tensorflow\"\n",
    "os.environ['KERAS_BACKEND']= \"theano\"\n",
    "import keras\n",
    "from keras.models import Sequential, load_model\n",
    "from keras.optimizers import Adam\n",
    "from keras.layers.core import Dense, Activation, Dropout, Lambda\n",
    "from keras.objectives import binary_crossentropy\n",
    "\n",
    "if train_from_scratch:\n",
    "    model = Sequential()\n",
    "    model.add(Dense(input_dim=mfcc_feat.shape[1], output_dim=2048, init=\"uniform\"))\n",
    "    model.add(Activation(\"relu\"))\n",
    "    model.add(Dense(input_dim=2048, output_dim=2048))\n",
    "    model.add(Activation(\"relu\"))\n",
    "    model.add(Dense(input_dim=2048, output_dim=257))\n",
    "    model.add(Activation(\"sigmoid\"))\n",
    "    optimizer_init=Adam(lr=0.001, beta_1=0.9, beta_2=0.999, epsilon=1e-08)\n",
    "    model.compile(loss=binary_crossentropy, optimizer=optimizer_init)\n",
    "\n",
    "if continue_to_train:\n",
    "    modelloss = model.fit(mfcc_feat, mask, nb_epoch=100, batch_size=32,verbose=2,shuffle=1)\n",
    "\n",
    "if save_trained_model:\n",
    "    model.save(save_trained_model, overwrite=False)\n",
    "    \n",
    "if load_trained_model:\n",
    "    model = load_model(load_trained_model)\n",
    "    \n",
    "mask_recon = model.predict(mfcc_feat)"
   ]
  },
  {
   "cell_type": "code",
   "execution_count": null,
   "metadata": {
    "collapsed": true
   },
   "outputs": [],
   "source": []
  },
  {
   "cell_type": "markdown",
   "metadata": {},
   "source": [
    "## Recover FFT magnitude\n",
    "\n",
    "First recover the magnitude response through power spectrum."
   ]
  },
  {
   "cell_type": "code",
   "execution_count": null,
   "metadata": {
    "collapsed": false
   },
   "outputs": [],
   "source": [
    "snda_recon = (mask_recon * magni_A) * np.exp( 1j *  mfcc_phase )\n",
    "snda_recon = np.fft.irfft( snda_recon )\n",
    "snda_recon = snda_recon[:,:(int(fs*winlen))]\n",
    "\n",
    "snda_recon = deframesig(snda_recon, 0, int(fs*winlen), int(fs*winstep))"
   ]
  },
  {
   "cell_type": "code",
   "execution_count": null,
   "metadata": {
    "collapsed": false,
    "scrolled": false
   },
   "outputs": [],
   "source": [
    "snda_recon = snda_recon.astype(np.int16)\n",
    "plt.subplot(121); plt.imshow(np.log(mfcc_magni),aspect=0.4); \n",
    "plt.title('Original spectrum'); plt.colorbar(); plt.ylabel('Time (Sample)')\n",
    "plt.subplot(122); plt.imshow(np.log(magni_A),aspect=0.4); \n",
    "plt.title('Reconstructed spectrum'); plt.colorbar(); plt.ylabel('Time (Sample)')\n",
    "display(Audio(snda,rate=fs))\n",
    "display(Audio(snda_recon,rate=fs))\n"
   ]
  },
  {
   "cell_type": "code",
   "execution_count": null,
   "metadata": {
    "collapsed": true
   },
   "outputs": [],
   "source": []
  }
 ],
 "metadata": {
  "kernelspec": {
   "display_name": "Python 3",
   "language": "python",
   "name": "python3"
  },
  "language_info": {
   "codemirror_mode": {
    "name": "ipython",
    "version": 3
   },
   "file_extension": ".py",
   "mimetype": "text/x-python",
   "name": "python",
   "nbconvert_exporter": "python",
   "pygments_lexer": "ipython3",
   "version": "3.5.2"
  }
 },
 "nbformat": 4,
 "nbformat_minor": 2
}
