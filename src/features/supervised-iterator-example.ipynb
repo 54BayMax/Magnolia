{
 "cells": [
  {
   "cell_type": "code",
   "execution_count": 1,
   "metadata": {
    "collapsed": false
   },
   "outputs": [
    {
     "name": "stdout",
     "output_type": "stream",
     "text": [
      "Automatic pdb calling has been turned ON\n"
     ]
    }
   ],
   "source": [
    "## Standard python libraries\n",
    "import numpy as np\n",
    "import time\n",
    "import sys\n",
    "import matplotlib.pylab as plt\n",
    "%matplotlib inline\n",
    "%pdb\n",
    "\n",
    "## Magnolia data iteration\n",
    "sys.path.append('../../')\n",
    "from src.features.mixer import FeatureMixer\n",
    "from src.features.wav_iterator import batcher\n",
    "from src.features.supervised_iterator import SupervisedIterator, SupervisedMixer"
   ]
  },
  {
   "cell_type": "markdown",
   "metadata": {},
   "source": [
    "## Set up the data"
   ]
  },
  {
   "cell_type": "code",
   "execution_count": 2,
   "metadata": {
    "collapsed": false
   },
   "outputs": [],
   "source": [
    "batchsize = 10240\n",
    "datashape = (64, 257)\n",
    "libridev='/local_data/teams/magnolia/libri-dev.h5'\n",
    "# libridev='/local_data/teams/magnolia/processed_train-clean-100.h5'"
   ]
  },
  {
   "cell_type": "markdown",
   "metadata": {},
   "source": [
    "## Non-labeled feature mixer declaration with several iterators from mixed sources"
   ]
  },
  {
   "cell_type": "code",
   "execution_count": 3,
   "metadata": {
    "collapsed": false
   },
   "outputs": [
    {
     "name": "stdout",
     "output_type": "stream",
     "text": [
      "Regular feature mixer with 3 libridev sources timed at  22.224697 sec\n"
     ]
    }
   ],
   "source": [
    "mixer = FeatureMixer([libridev,libridev,libridev], shape=datashape, mix_method='add', diffseed=True, return_key=True)\n",
    "ti = time.clock()\n",
    "data_batch = mixer.get_batch(batchsize)\n",
    "tf = time.clock()\n",
    "print('Regular feature mixer with 3 libridev sources timed at ', (tf-ti), 'sec')"
   ]
  },
  {
   "cell_type": "markdown",
   "metadata": {},
   "source": [
    "## Labeled feature mixer declaration with same number of iterators from mixed sources"
   ]
  },
  {
   "cell_type": "code",
   "execution_count": 4,
   "metadata": {
    "collapsed": false
   },
   "outputs": [
    {
     "name": "stdout",
     "output_type": "stream",
     "text": [
      "Supervised feature mixer with 3 libridev sources timed at  21.732774999999997 sec\n",
      "Shapes [X,Y] for out_TF=-1 is [ (10240, 64, 257) , (10240, 3, 257) ]\n",
      "Supervised feature mixer with 3 libridev sources timed at  23.400253 sec\n",
      "Shapes [X,Y] for out_TF=FullSpec is [ (10240, 64, 257) , (10240, 3, 1542) ]\n",
      "Supervised feature mixer with 3 libridev sources timed at  47.13862900000001 sec\n",
      "Shapes [X,Y] for out_TF=FullSpec is [ (10240, 64, 257) , (10240, 3, 16448) ]\n"
     ]
    }
   ],
   "source": [
    "libriter = SupervisedIterator(libridev, shape=datashape)\n",
    "mixerter = SupervisedMixer([libridev,libridev,libridev], shape=datashape, \n",
    "                     mix_method='add', diffseed=True, return_key=True)\n",
    "# Check the time\n",
    "ti = time.clock()\n",
    "X, Y, I = mixerter.get_batch(batchsize)\n",
    "tf = time.clock()\n",
    "print('Supervised feature mixer with 3 libridev sources timed at ', (tf-ti), 'sec')\n",
    "print('Shapes [X,Y] for out_TF=-1 is [',X.shape,',',Y.shape,']')\n",
    "\n",
    "# Check the time for subset of array\n",
    "ti = time.clock()\n",
    "X, Y, I = mixerter.get_batch(batchsize,out_TF=[0,1,2,3,4,5])\n",
    "tf = time.clock()\n",
    "print('Supervised feature mixer with 3 libridev sources timed at ', (tf-ti), 'sec')\n",
    "print('Shapes [X,Y] for out_TF=FullSpec is [',X.shape,',',Y.shape,']')\n",
    "\n",
    "# Check the time for full spectra\n",
    "ti = time.clock()\n",
    "X, Y, I = mixerter.get_batch(batchsize,out_TF=None)\n",
    "tf = time.clock()\n",
    "print('Supervised feature mixer with 3 libridev sources timed at ', (tf-ti), 'sec')\n",
    "print('Shapes [X,Y] for out_TF=FullSpec is [',X.shape,',',Y.shape,']')\n"
   ]
  },
  {
   "cell_type": "code",
   "execution_count": null,
   "metadata": {
    "collapsed": true
   },
   "outputs": [],
   "source": []
  }
 ],
 "metadata": {
  "kernelspec": {
   "display_name": "Python 3",
   "language": "python",
   "name": "python3"
  },
  "language_info": {
   "codemirror_mode": {
    "name": "ipython",
    "version": 3
   },
   "file_extension": ".py",
   "mimetype": "text/x-python",
   "name": "python",
   "nbconvert_exporter": "python",
   "pygments_lexer": "ipython3",
   "version": "3.6.1"
  }
 },
 "nbformat": 4,
 "nbformat_minor": 2
}
