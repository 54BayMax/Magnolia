{
 "cells": [
  {
   "cell_type": "code",
   "execution_count": 1,
   "metadata": {
    "collapsed": false
   },
   "outputs": [],
   "source": [
    "## Standard python libraries\n",
    "import numpy as np\n",
    "import time\n",
    "import sys\n",
    "import matplotlib.pylab as plt\n",
    "%matplotlib inline\n",
    "\n",
    "## Magnolia data iteration\n",
    "sys.path.append('../../')\n",
    "from src.features.mixer import FeatureMixer\n",
    "from src.features.wav_iterator import batcher\n",
    "from src.features.supervised_iterator import SupervisedIterator, SupervisedMixer"
   ]
  },
  {
   "cell_type": "markdown",
   "metadata": {},
   "source": [
    "## Set up the data"
   ]
  },
  {
   "cell_type": "code",
   "execution_count": 2,
   "metadata": {
    "collapsed": false
   },
   "outputs": [],
   "source": [
    "batchsize = 10240\n",
    "datashape = (64, 257)\n",
    "libridev='/local_data/teams/magnolia/libri-dev.h5'\n",
    "# libridev='/local_data/teams/magnolia/processed_train-clean-100.h5'"
   ]
  },
  {
   "cell_type": "markdown",
   "metadata": {},
   "source": [
    "## Non-labeled feature mixer declaration with several iterators from mixed sources"
   ]
  },
  {
   "cell_type": "code",
   "execution_count": 5,
   "metadata": {
    "collapsed": false
   },
   "outputs": [
    {
     "name": "stdout",
     "output_type": "stream",
     "text": [
      "Regular feature mixer with 3 libridev sources timed at  21.593534 sec\n"
     ]
    }
   ],
   "source": [
    "mixer = FeatureMixer([libridev,libridev,libridev], shape=datashape, mix_method='add', diffseed=True, return_key=True)\n",
    "ti = time.clock()\n",
    "data_batch = mixer.get_batch(batchsize)\n",
    "tf = time.clock()\n",
    "print('Regular feature mixer with 3 libridev sources timed at ', (tf-ti), 'sec')"
   ]
  },
  {
   "cell_type": "markdown",
   "metadata": {},
   "source": [
    "## Labeled feature mixer declaration with same number of iterators from mixed sources"
   ]
  },
  {
   "cell_type": "code",
   "execution_count": 6,
   "metadata": {
    "collapsed": false
   },
   "outputs": [
    {
     "name": "stdout",
     "output_type": "stream",
     "text": [
      "Supervised feature mixer with 3 libridev sources timed at  22.609802000000002 sec\n"
     ]
    }
   ],
   "source": [
    "libriter = SupervisedIterator(libridev, shape=datashape)\n",
    "mixerter = SupervisedMixer([libridev,libridev,libridev], shape=datashape, \n",
    "                     mix_method='add', diffseed=True, return_key=True)\n",
    "# Check the time\n",
    "ti = time.clock()\n",
    "X, Y, I = mixerter.get_batch(batchsize)\n",
    "tf = time.clock()\n",
    "print('Supervised feature mixer with 3 libridev sources timed at ', (tf-ti), 'sec')"
   ]
  },
  {
   "cell_type": "code",
   "execution_count": null,
   "metadata": {
    "collapsed": true
   },
   "outputs": [],
   "source": []
  }
 ],
 "metadata": {
  "kernelspec": {
   "display_name": "Python 3",
   "language": "python",
   "name": "python3"
  },
  "language_info": {
   "codemirror_mode": {
    "name": "ipython",
    "version": 3
   },
   "file_extension": ".py",
   "mimetype": "text/x-python",
   "name": "python",
   "nbconvert_exporter": "python",
   "pygments_lexer": "ipython3",
   "version": "3.5.2"
  }
 },
 "nbformat": 4,
 "nbformat_minor": 2
}
