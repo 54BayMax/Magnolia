{
 "cells": [
  {
   "cell_type": "code",
   "execution_count": null,
   "metadata": {
    "collapsed": false
   },
   "outputs": [],
   "source": [
    "# Necessary imports\n",
    "from magnolia.features.preprocessing import make_stft_dataset\n",
    "import h5py\n",
    "\n",
    "# For plotting examples\n",
    "import numpy as np\n",
    "from matplotlib import pyplot as plt\n",
    "fig_size = [0,0]\n",
    "fig_size[0] = 8\n",
    "fig_size[1] = 4\n",
    "plt.rcParams[\"figure.figsize\"] = fig_size"
   ]
  },
  {
   "cell_type": "markdown",
   "metadata": {},
   "source": [
    "### Processing raw data"
   ]
  },
  {
   "cell_type": "code",
   "execution_count": null,
   "metadata": {
    "collapsed": false
   },
   "outputs": [],
   "source": [
    "# Path to the data set (change this to point to a folder containing data to process)\n",
    "data_directory = '/Users/patrickc/data/LibriSpeech/dev-clean/'\n",
    "\n",
    "# Which level of subfolders to use as keys (for dev-clean sublevel 1 corresponds to speaker ids)\n",
    "key_level = 1\n",
    "\n",
    "# Which type of files to process\n",
    "file_type = '.flac'\n",
    "\n",
    "# file name of output file\n",
    "output_file = '/Users/patrickc/data/LibriSpeech/processed_dev-clean.h5'\n",
    "\n",
    "# Make the data set\n",
    "make_stft_dataset(data_directory,key_level,file_type,output_file)"
   ]
  },
  {
   "cell_type": "markdown",
   "metadata": {},
   "source": [
    "### Reading in data from the output file"
   ]
  },
  {
   "cell_type": "code",
   "execution_count": null,
   "metadata": {
    "collapsed": true
   },
   "outputs": [],
   "source": [
    "with h5py.File(output_file,'r') as test:\n",
    "    data = []\n",
    "    for key in test.keys():\n",
    "        data += [i[:] for i in test[key].values()]"
   ]
  },
  {
   "cell_type": "markdown",
   "metadata": {},
   "source": [
    "### Plot some of the data that was read in"
   ]
  },
  {
   "cell_type": "code",
   "execution_count": null,
   "metadata": {
    "collapsed": false
   },
   "outputs": [],
   "source": [
    "example = np.sqrt(np.abs(data[-1][:128,:])).T\n",
    "print(example.shape)"
   ]
  },
  {
   "cell_type": "code",
   "execution_count": null,
   "metadata": {
    "collapsed": false
   },
   "outputs": [],
   "source": [
    "plt.figure(figsize=(5,8))\n",
    "plt.imshow(example,origin='lower',cmap='afmhot',aspect=0.2)\n",
    "plt.show()"
   ]
  }
 ],
 "metadata": {
  "anaconda-cloud": {},
  "kernelspec": {
   "display_name": "tensorflow1.1",
   "language": "python",
   "name": "tf1.1"
  },
  "language_info": {
   "codemirror_mode": {
    "name": "ipython",
    "version": 3
   },
   "file_extension": ".py",
   "mimetype": "text/x-python",
   "name": "python",
   "nbconvert_exporter": "python",
   "pygments_lexer": "ipython3",
   "version": "3.5.3"
  }
 },
 "nbformat": 4,
 "nbformat_minor": 1
}
