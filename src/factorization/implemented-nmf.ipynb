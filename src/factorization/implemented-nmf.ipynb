{
 "cells": [
  {
   "cell_type": "markdown",
   "metadata": {},
   "source": [
    "## NMF for Speaker Separation\n",
    "\n",
    "Non-negative matrix factorization from a single microphone, with ideas taken from [Stanford's course](https://ccrma.stanford.edu/~njb/teaching/sstutorial/part2.pdf). Underlying idea is take a spectrogram $V$, and decompose it to construct its atomic bases set $W$ and $H$, so that:\n",
    "\n",
    "$$ V = W H $$\n",
    "\n",
    "This is just a baseline, without real confidence in its applicability. The trouble with NMF speaker separation on human voices is that the spectrogram for speech is dynamic over the course of an entire spectrogram. Not only will our voice modulate, individual syllables may cover large swaths of frequency.\n",
    "\n",
    "![Monaural NMF](images/nmf-monaural.png)\n"
   ]
  },
  {
   "cell_type": "code",
   "execution_count": null,
   "metadata": {
    "collapsed": false
   },
   "outputs": [],
   "source": [
    "# Scientific libraries\n",
    "import scipy\n",
    "import pylab\n",
    "import numpy as np\n",
    "import numpy.ma as ma\n",
    "from nmf import nmf\n",
    "\n",
    "# Audio libraries\n",
    "from scipy.io import wavfile\n",
    "from IPython.display import display, Audio\n",
    "\n",
    "# Operational libraries\n",
    "import os\n",
    "import sys\n",
    "import matplotlib.pylab as plt\n",
    "%matplotlib inline\n",
    "\n",
    "# Magnolia libraries\n",
    "sys.path.append('../')\n",
    "from utils.norm_wav import norm_wav\n",
    "from features.spectral_features import *"
   ]
  },
  {
   "cell_type": "markdown",
   "metadata": {},
   "source": [
    "## Read in the data"
   ]
  },
  {
   "cell_type": "code",
   "execution_count": null,
   "metadata": {
    "collapsed": false
   },
   "outputs": [],
   "source": [
    "# Read in the data\n",
    "audio_dir = \"/Users/kni/Code/Magnolia/data/sisec-dev\"\n",
    "fs, snda = wavfile.read(os.path.join(audio_dir, \"dev_Ca1_Ce_A_src.wav\"))\n",
    "fs, sndb = wavfile.read(os.path.join(audio_dir, \"dev_Ca1_Ce_B_src.wav\"))\n",
    "sndab = snda+sndb\n",
    "\n",
    "# Normalize the data\n",
    "snda = norm_wav( snda )\n",
    "sndb = norm_wav( sndb )\n",
    "sndab = norm_wav( sndab )"
   ]
  },
  {
   "cell_type": "markdown",
   "metadata": {},
   "source": [
    "## Spectral transform and component decomposition\n",
    "\n",
    "The decomposition below fits a model:\n",
    "\n",
    "$$ \\| X - WH \\|_F^2 + \\alpha \\lambda_1 \\| W \\|_1 + \\alpha \\lambda_1 \\| H \\|_1  $$\n",
    "\n",
    "Unfortunately, the code below only stores $W$, and leaves the user to calculate $H$ (see below)"
   ]
  },
  {
   "cell_type": "code",
   "execution_count": null,
   "metadata": {
    "collapsed": false
   },
   "outputs": [],
   "source": [
    "sndabft = stft( sndab, fs, 0.05, 0.025)\n",
    "W,H = nmf(abs(sndabft), 8)"
   ]
  },
  {
   "cell_type": "markdown",
   "metadata": {},
   "source": [
    "## Reconstruction (first Fourier and time-domain)\n",
    "\n",
    "Based on the spectral decomposition in the above cell, where\n",
    "\n",
    "### Reconstruction thresholded mask"
   ]
  },
  {
   "cell_type": "code",
   "execution_count": null,
   "metadata": {
    "collapsed": false,
    "scrolled": true
   },
   "outputs": [],
   "source": [
    "ws = H\n",
    "masks = np.zeros((len(H),) + sndabft.shape)\n",
    "for i,wi in enumerate(H):\n",
    "    ws[i]= wi / np.linalg.norm(wi)\n",
    "    energyi = ws[i].dot(abs(sndabft).T)\n",
    "    masks[i] = np.outer( energyi, ws[i] )\n",
    "    \n",
    "maska = (masks[0]) > (masks[1])\n",
    "maskb = (masks[1]) > (masks[0])\n",
    "\n",
    "sndareconft = maska*abs(sndabft)*np.exp( 1j* np.angle(sndabft))  # Apply mask A\n",
    "sndarecon = istft( sndareconft, fs, 5, 0.025 )\n",
    "\n",
    "sndbreconft = maskb*abs(sndabft)*np.exp( 1j* np.angle(sndabft))  # Apply mask B = 1 - A\n",
    "sndbrecon = istft( sndbreconft, fs, 5, 0.025 )\n",
    "\n",
    "plt.figure();\n",
    "plt.subplot(211); plt.plot( ws[0].dot(abs(sndabft).T)/1e5 )\n",
    "plt.subplot(212); plt.plot( ws[1].dot(abs(sndabft).T)/1e5 )\n",
    "plt.figure(); plt.imshow(maska.T, aspect=.2, cmap='bone')\n",
    "plt.figure(); plt.imshow(maskb.T, aspect=.2, cmap='bone')"
   ]
  },
  {
   "cell_type": "markdown",
   "metadata": {},
   "source": [
    "### Reconstruction with source filtering\n",
    "\n",
    "![nmf source filtering](images/nmf-sourcefilter.png)"
   ]
  },
  {
   "cell_type": "code",
   "execution_count": null,
   "metadata": {
    "collapsed": false
   },
   "outputs": [],
   "source": [
    "alpha = 1\n",
    "comps = np.zeros((len(H),len(W), len(H.T)))\n",
    "for i in range(len(H)):\n",
    "    comps[i] = ( W[:,i:i+1] @ H[i:i+1,:] )**alpha\n",
    "\n",
    "aggcomp = comps.sum(axis=0)\n",
    "masks = comps / aggcomp\n",
    "\n",
    "sndareconft = masks[0]*abs(sndabft)*np.exp( 1j* np.angle(sndabft))  # Apply mask A\n",
    "sndarecon = istft( sndareconft, fs, 5, 0.025 )\n",
    "\n",
    "sndbreconft = masks[1]*abs(sndabft)*np.exp( 1j* np.angle(sndabft))  # Apply mask B = 1 - A\n",
    "sndbrecon = istft( sndbreconft, fs, 5, 0.025 )\n",
    "\n",
    "plt.figure(); plt.imshow(masks[0], cmap='bone')\n",
    "plt.figure(); plt.imshow(masks[1], cmap='bone')"
   ]
  },
  {
   "cell_type": "markdown",
   "metadata": {},
   "source": [
    "## Play audio"
   ]
  },
  {
   "cell_type": "code",
   "execution_count": null,
   "metadata": {
    "collapsed": false
   },
   "outputs": [],
   "source": [
    "print('Original signal')\n",
    "display(Audio(sndab, rate=fs))\n",
    "print('Reconstruction of signal A')\n",
    "display(Audio(sndarecon,rate=fs))\n",
    "print('Reconstruction of signal B')\n",
    "display(Audio(sndbrecon,rate=fs))"
   ]
  },
  {
   "cell_type": "code",
   "execution_count": null,
   "metadata": {
    "collapsed": true
   },
   "outputs": [],
   "source": []
  }
 ],
 "metadata": {
  "kernelspec": {
   "display_name": "Python 3",
   "language": "python",
   "name": "python3"
  },
  "language_info": {
   "codemirror_mode": {
    "name": "ipython",
    "version": 3
   },
   "file_extension": ".py",
   "mimetype": "text/x-python",
   "name": "python",
   "nbconvert_exporter": "python",
   "pygments_lexer": "ipython3",
   "version": "3.5.2"
  }
 },
 "nbformat": 4,
 "nbformat_minor": 2
}
