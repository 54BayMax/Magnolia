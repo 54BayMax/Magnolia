{
 "cells": [
  {
   "cell_type": "code",
   "execution_count": 1,
   "metadata": {
    "collapsed": true
   },
   "outputs": [],
   "source": [
    "## Standard python libraries\n",
    "import numpy as np\n",
    "import time\n",
    "import sys\n",
    "import matplotlib.pylab as plt\n",
    "import functools\n",
    "%matplotlib inline\n",
    "\n",
    "## Magnolia data iteration\n",
    "sys.path.append('../../')\n",
    "from src.features.mixer import FeatureMixer\n",
    "from src.features.wav_iterator import batcher\n",
    "from src.features.supervised_iterator import SupervisedIterator, SupervisedMixer\n",
    "from src.features.hdf5_iterator import Hdf5Iterator, SpeakerIterator"
   ]
  },
  {
   "cell_type": "code",
   "execution_count": 2,
   "metadata": {
    "collapsed": true
   },
   "outputs": [],
   "source": [
    "numsources = 2\n",
    "batchsize = 64\n",
    "datashape = (40, 257)\n",
    "embedding_size = 600\n",
    "libridev='/local_data/teams/magnolia/libri-dev.h5'\n",
    "libritrain='/local_data/teams/magnolia/librispeech/processed_train-clean-100.h5'"
   ]
  },
  {
   "cell_type": "code",
   "execution_count": 3,
   "metadata": {
    "collapsed": true
   },
   "outputs": [],
   "source": [
    "# SpeakerIterator(hdf5_path, shape=None, pos=None, seed=41, return_key=False, speaker_keys)\n",
    "hdf5iterator = Hdf5Iterator( libritrain, shape=(1,257), seed=41)"
   ]
  },
  {
   "cell_type": "code",
   "execution_count": 26,
   "metadata": {
    "collapsed": false
   },
   "outputs": [],
   "source": [
    "hdf5iterator.h5_groups\n",
    "# split_percentage = 0.5\n",
    "\n",
    "splits = [0.8, 0.1, 0.1]\n",
    "splittype = 'train'\n",
    "\n",
    "if splittype=='train':\n",
    "    items = [item for item in hdf5iterator.h5['103'] ]\n",
    "    items.sort()\n",
    "    items = items[:round(len(items)*0.8)]\n",
    "else:\n",
    "    items = [item for item in hdf5iterator.h5['103'] ]\n",
    "    items.sort()\n",
    "    items = items[:round(len(items)*0.8)]    "
   ]
  },
  {
   "cell_type": "code",
   "execution_count": 28,
   "metadata": {
    "collapsed": false
   },
   "outputs": [
    {
     "data": {
      "text/plain": [
       "82"
      ]
     },
     "execution_count": 28,
     "metadata": {},
     "output_type": "execute_result"
    }
   ],
   "source": [
    "len(items)"
   ]
  }
 ],
 "metadata": {
  "kernelspec": {
   "display_name": "tensorflow1.1",
   "language": "python",
   "name": "tf1.1"
  },
  "language_info": {
   "codemirror_mode": {
    "name": "ipython",
    "version": 3
   },
   "file_extension": ".py",
   "mimetype": "text/x-python",
   "name": "python",
   "nbconvert_exporter": "python",
   "pygments_lexer": "ipython3",
   "version": "3.5.3"
  }
 },
 "nbformat": 4,
 "nbformat_minor": 2
}
