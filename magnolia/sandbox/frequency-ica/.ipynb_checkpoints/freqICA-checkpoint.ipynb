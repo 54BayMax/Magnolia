{
 "cells": [
  {
   "cell_type": "code",
   "execution_count": 2,
   "metadata": {
    "collapsed": false
   },
   "outputs": [],
   "source": [
    "import numpy as np\n",
    "import gennoisy\n",
    "import matplotlib.pylab as plt\n",
    "%matplotlib inline"
   ]
  },
  {
   "cell_type": "code",
   "execution_count": 4,
   "metadata": {
    "collapsed": false
   },
   "outputs": [],
   "source": [
    "X,S,A,N = gennoisy.gennoisy()\n",
    "# plt.plot(X)\n",
    "# plt.title('Mixed Signals (3 channels)')\n",
    "# plt.figure()\n",
    "# plt.plot(S)\n",
    "# plt.title('Original Signals')"
   ]
  },
  {
   "cell_type": "code",
   "execution_count": 5,
   "metadata": {
    "collapsed": false
   },
   "outputs": [
    {
     "data": {
      "text/plain": [
       "array([[-0.50350781, -0.25538814, -0.07336235],\n",
       "       [-0.11478793,  0.03225371,  0.78029092],\n",
       "       [-0.16323618,  0.01577438,  0.75313911],\n",
       "       ..., \n",
       "       [ 0.46937096,  0.80225065, -0.38419994],\n",
       "       [ 0.46365963,  0.8142623 , -0.36454576],\n",
       "       [ 0.48164529,  0.67894528, -0.35830773]])"
      ]
     },
     "execution_count": 5,
     "metadata": {},
     "output_type": "execute_result"
    }
   ],
   "source": [
    "X"
   ]
  }
 ],
 "metadata": {
  "kernelspec": {
   "display_name": "Python 3",
   "language": "python",
   "name": "python3"
  },
  "language_info": {
   "codemirror_mode": {
    "name": "ipython",
    "version": 3
   },
   "file_extension": ".py",
   "mimetype": "text/x-python",
   "name": "python",
   "nbconvert_exporter": "python",
   "pygments_lexer": "ipython3",
   "version": "3.5.2"
  }
 },
 "nbformat": 4,
 "nbformat_minor": 2
}
