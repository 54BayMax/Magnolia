{
 "cells": [
  {
   "cell_type": "markdown",
   "metadata": {},
   "source": [
    "# Training the deep attractor network\n",
    "\n",
    "This notebook contains a detailed example of how to train the deep attractor network model.  Filepaths to load training data must be filled in to run this notebook."
   ]
  },
  {
   "cell_type": "code",
   "execution_count": 1,
   "metadata": {
    "collapsed": false
   },
   "outputs": [],
   "source": [
    "import sys\n",
    "import time\n",
    "\n",
    "import numpy as np\n",
    "\n",
    "from magnolia.dnnseparate.DANmodel import DANModel\n",
    "from magnolia.iterate.supervised_iterator import SupervisedMixer\n",
    "from magnolia.iterate.hdf5_iterator import SplitsIterator\n",
    "\n",
    "\n",
    "import IPython\n",
    "from IPython.display import Audio\n",
    "from matplotlib import pyplot as plt\n",
    "fig_size = [0,0]\n",
    "fig_size[0] = 8\n",
    "fig_size[1] = 4\n",
    "plt.rcParams[\"figure.figsize\"] = fig_size"
   ]
  },
  {
   "cell_type": "markdown",
   "metadata": {},
   "source": [
    "### Training parameters\n",
    "        batchsize  : Number of examples per batch in training\n",
    "        max_snr    : Maximum SNR of mixes used in training\n",
    "        datashape  : (Time, Frequency) shape of the examples within each batch"
   ]
  },
  {
   "cell_type": "code",
   "execution_count": 2,
   "metadata": {
    "collapsed": true
   },
   "outputs": [],
   "source": [
    "batchsize = 256\n",
    "max_snr = 5\n",
    "datashape = (40, 257)"
   ]
  },
  {
   "cell_type": "markdown",
   "metadata": {},
   "source": [
    "### Setting up data I/O\n",
    "\n",
    "For training, only the training dataset is needed. The other two datasets can be used for evaluation. The (training set, or in set) speaker keys have been separated according to speaker gender."
   ]
  },
  {
   "cell_type": "code",
   "execution_count": 3,
   "metadata": {
    "collapsed": true
   },
   "outputs": [],
   "source": [
    "libritrain='/home/cstephenson/Data/librispeech/processed_train-clean-100.h5'\n",
    "\n",
    "with open('/home/cstephenson/Magnolia/data/librispeech/authors/train-clean-100-F.txt','r') as speakers:\n",
    "    keys = speakers.read().splitlines()\n",
    "    speaker_keys = keys[:]\n",
    "    in_set_F = keys[:]\n",
    "\n",
    "with open('/home/cstephenson/Magnolia/data/librispeech/authors/train-clean-100-M.txt','r') as speakers:\n",
    "    keys = speakers.read().splitlines()\n",
    "    speaker_keys += keys\n",
    "    in_set_M = keys[:]"
   ]
  },
  {
   "cell_type": "markdown",
   "metadata": {},
   "source": [
    "# Make a training set mixer with holdout sets\n",
    "\n",
    "SplitsIterator handles (deterministically) splitting the training set into three partitions. 80% of the training data is used to train the model, 10% is used to evaluate the training progress on unseen examples, and the last 10% is reserved to evaluate the performance of the model on unseen examples from speakers in the training set."
   ]
  },
  {
   "cell_type": "code",
   "execution_count": 4,
   "metadata": {
    "collapsed": true
   },
   "outputs": [],
   "source": [
    "siterator = SplitsIterator([0.8,0.1,0.1], libritrain, speaker_keys=speaker_keys, shape=datashape, return_key=True)\n",
    "siterator.set_split(0)\n",
    "\n",
    "mixer = SupervisedMixer([siterator,siterator], shape=datashape, \n",
    "                        mix_method='add', diffseed=True)"
   ]
  },
  {
   "cell_type": "markdown",
   "metadata": {},
   "source": [
    "### Helper functions to create batches of training data\n",
    "\n",
    "These are functions which can be used with the mixers to create mixes that aren't 1:1"
   ]
  },
  {
   "cell_type": "code",
   "execution_count": 5,
   "metadata": {
    "collapsed": true
   },
   "outputs": [],
   "source": [
    "def get_id(filepath):\n",
    "    '''\n",
    "    Get the speaker ID from the audio filepath\n",
    "    '''\n",
    "    speaker_id = filepath.split('/')[0]\n",
    "    return speaker_id\n",
    "\n",
    "        \n",
    "def create_mix(mixer, max_snr):  \n",
    "    '''\n",
    "    Create a mixed example from the mixer with a max SNR of max_snr\n",
    "    '''\n",
    "    data = next(mixer)\n",
    "    \n",
    "    # Get the IDs for the speakers in the mix\n",
    "    f1 = data[1][0]\n",
    "    f2 = data[2][0]\n",
    "    \n",
    "    id1 = mixer.label2dict(get_id(f1))\n",
    "    id2 = mixer.label2dict(get_id(f2))\n",
    "    \n",
    "    # Get the magnitude spectrograms for each singal\n",
    "    x1 = np.abs(data[1][1])\n",
    "    x2 = np.abs(data[2][1])\n",
    "    \n",
    "    # Mix the signals at a random SNR between 0 and max_snr\n",
    "    weight = np.random.rand()\n",
    "    weight = (max_snr-2)/max_snr*weight + 2/max_snr\n",
    "    \n",
    "    a1 = weight/2\n",
    "    a2 = 1-weight/2\n",
    "    \n",
    "    S = a1*x1 + a2*x2\n",
    "\n",
    "    # Scale the combined magnitude spectrogram to make an input feature\n",
    "    Sq = np.sqrt(S)\n",
    "    Sq = (Sq - Sq.min())/(Sq.max() - Sq.min())\n",
    "    \n",
    "    # Stack the targets and IDs together \n",
    "    y = np.stack([a1*x1,a2*x2],axis=2)\n",
    "    I = np.stack([id1,id2])\n",
    "    \n",
    "    return Sq, y, I, S\n",
    "\n",
    "def create_batch(mixer, batch_size, max_snr):\n",
    "    '''\n",
    "    Create a batch of training data mixed between 0 and max_snr\n",
    "    '''\n",
    "    \n",
    "    # Empty lists to contain the data\n",
    "    X_list = []\n",
    "    I_list = []\n",
    "    y_list = []\n",
    "    S_list = []\n",
    "    \n",
    "    # Create batch_size examples and store them\n",
    "    for i in range(batch_size):\n",
    "        x, y, i, s = create_mix(mixer,5)\n",
    "        \n",
    "        X_list.append(x)\n",
    "        I_list.append(i)\n",
    "        y_list.append(y)\n",
    "        S_list.append(s)\n",
    "        \n",
    "    # Return the examples as np arrays\n",
    "    return np.stack(X_list), np.stack(y_list), np.stack(I_list), np.stack(S_list)"
   ]
  },
  {
   "cell_type": "markdown",
   "metadata": {},
   "source": [
    "### Create a batch of validation data\n",
    "To generate a batch from the validation split of the training dataset, the splits iterator can have the split set to the validation split and the mixer can be used as before."
   ]
  },
  {
   "cell_type": "code",
   "execution_count": 6,
   "metadata": {
    "collapsed": false
   },
   "outputs": [],
   "source": [
    "siterator.set_split(1)\n",
    "Xinv, Ydv, Idv, Sdv = create_batch(mixer,batchsize,max_snr)\n",
    "siterator.set_split(0)"
   ]
  },
  {
   "cell_type": "markdown",
   "metadata": {},
   "source": [
    "# Initialize an instance of the DAN model"
   ]
  },
  {
   "cell_type": "code",
   "execution_count": 7,
   "metadata": {
    "collapsed": false
   },
   "outputs": [],
   "source": [
    "# Initialize the model\n",
    "model = DANModel(nonlinearity='tanh', normalize=False)\n",
    "model.initialize()\n",
    "\n",
    "# Get the cost before training\n",
    "Xdata, Ydata, Idata, Sdata = create_batch(mixer,batchsize, max_snr)\n",
    "\n",
    "c = model.get_cost(Xdata,Ydata,Idata,Sdata)\n",
    "c_v = model.get_cost(Xinv, Ydv, Idv, Sdv)\n",
    "\n",
    "# Bookkeeping to track training progress\n",
    "iterations = [0]\n",
    "costs = [c]\n",
    "t_costs = [c]\n",
    "v_costs = [c_v]\n",
    "\n",
    "times = []\n",
    "last_saved = 0"
   ]
  },
  {
   "cell_type": "markdown",
   "metadata": {},
   "source": [
    "# Training loop\n",
    "\n",
    "Here the model is iteratively trained on batches generated by the mixer. The model is saved every time the validation cost reaches a new minimum value. The training can be configured to stop if the model has not been saved after a specified number of iterations have elapsed since the previous save. Plots of the training cost and the validation set are created as well."
   ]
  },
  {
   "cell_type": "code",
   "execution_count": null,
   "metadata": {
    "collapsed": false
   },
   "outputs": [
    {
     "data": {
      "image/png": "[encoded data removed]",
      "text/plain": [
       "<matplotlib.figure.Figure at 0x7f4033a9e6a0>"
      ]
     },
     "metadata": {},
     "output_type": "display_data"
    },
    {
     "name": "stdout",
     "output_type": "stream",
     "text": [
      "Cost on iteration 7590 is 0.000133241\n",
      "Last saved 7590 iterations ago.\n",
      "Time per batch: 0.2211406\n"
     ]
    }
   ],
   "source": [
    "# Number of iterations to train for (should be large)\n",
    "num_iterations = 1000000\n",
    "# Threshold for stopping if the model hasn't improved for this many consecutive iterations\n",
    "stop_threshold = 10000\n",
    "# Allow model saving?\n",
    "save = False\n",
    "\n",
    "# Find the number of iterations already elapsed (Useful for resuming training)\n",
    "try:\n",
    "    start = iterations[-1]\n",
    "except:\n",
    "    start = 0\n",
    "    \n",
    "# Ensure that the iterator is set to iterate over the training split    \n",
    "siterator.set_split(0)\n",
    "\n",
    "# Iterate over training batches\n",
    "for i in range(num_iterations):\n",
    "    \n",
    "    # Generate a batch of training data\n",
    "    Xdata, Ydata, Idata, Sdata = create_batch(mixer,batchsize,max_snr)\n",
    "    \n",
    "    # Train on the batch and time the process\n",
    "    tick = time.clock()\n",
    "    c = model.train_on_batch(Xdata,Ydata,Idata,Sdata)\n",
    "    tock = time.clock()\n",
    "    times.append(tock-tick)\n",
    "        \n",
    "    # Store the cost on this batch\n",
    "    costs.append(c)\n",
    "    \n",
    "    # Every 10 batches, evaluate the model on the validation and plot the cost curves\n",
    "    if (i+1) % 10 == 0:\n",
    "        IPython.display.clear_output(wait=True)\n",
    "        \n",
    "        # Get the cost on the validation batch\n",
    "        c_v = model.get_cost(Xinv, Ydv, Idv, Sdv)\n",
    "    \n",
    "        # Check if the validation cost is below the minimum validation cost, and if so, save it.\n",
    "        if c_v < min(v_costs) and len(iterations) > 0 and save == True:\n",
    "            print(\"Saving the model because c_v is\", min(v_costs) - c_v, \"below the old min.\")\n",
    "            \n",
    "            # Save the model to the specified path\n",
    "            model.save('models/magnolia/DAN41.ckpt')\n",
    "            \n",
    "            # Record the iteration of the most recent save\n",
    "            last_saved = iterations[-1]\n",
    "        \n",
    "        # Store the training and validation cost\n",
    "        t_costs.append(np.mean(costs))\n",
    "        v_costs.append(c_v)\n",
    "        \n",
    "        # Store the current iteration number\n",
    "        iterations.append(i + 1 + start)\n",
    "        \n",
    "        # Compute the scale quantities for plotting\n",
    "        length = len(iterations)\n",
    "        cutoff = int(0.5*length)\n",
    "        lowline = [min(v_costs)]*len(iterations)\n",
    "        \n",
    "        # Generate the plots and show them\n",
    "        f, (ax1, ax2) = plt.subplots(2,1)\n",
    "        \n",
    "        ax1.plot(iterations,t_costs)\n",
    "        ax1.plot(iterations,v_costs)\n",
    "        ax1.plot(iterations,lowline)\n",
    "        \n",
    "        y_u = max(max(t_costs[cutoff:]),max(v_costs[cutoff:]))\n",
    "        y_l = min(min(t_costs[cutoff:]),min(v_costs[cutoff:]))\n",
    "        \n",
    "        ax2.set_ylim(y_l,y_u)\n",
    "        \n",
    "        ax2.plot(iterations[cutoff:], t_costs[cutoff:])\n",
    "        ax2.plot(iterations[cutoff:], v_costs[cutoff:])\n",
    "        ax2.plot(iterations[cutoff:], lowline[cutoff:])\n",
    "        plt.show()\n",
    "        \n",
    "        print(\"Cost on iteration\", iterations[-1], \"is\", c_v)\n",
    "        print(\"Last saved\",iterations[-1]-last_saved,\"iterations ago.\")\n",
    "        print(\"Time per batch:\", np.mean(times[-10:]) )\n",
    "        \n",
    "        # Reset the costs over the last 10 iterations\n",
    "        costs = []\n",
    "        \n",
    "        # Stop training if the number of iterations since the last save exceeds the threshold\n",
    "        if iterations[-1]-last_saved > stop_threshold:\n",
    "            print(\"Done!\")\n",
    "            break"
   ]
  },
  {
   "cell_type": "code",
   "execution_count": null,
   "metadata": {
    "collapsed": true
   },
   "outputs": [],
   "source": []
  }
 ],
 "metadata": {
  "kernelspec": {
   "display_name": "tf1.1",
   "language": "python",
   "name": "tf1.1"
  },
  "language_info": {
   "codemirror_mode": {
    "name": "ipython",
    "version": 3
   },
   "file_extension": ".py",
   "mimetype": "text/x-python",
   "name": "python",
   "nbconvert_exporter": "python",
   "pygments_lexer": "ipython3",
   "version": "3.5.3"
  }
 },
 "nbformat": 4,
 "nbformat_minor": 2
}
