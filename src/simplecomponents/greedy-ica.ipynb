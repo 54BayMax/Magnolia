{
 "cells": [
  {
   "cell_type": "code",
   "execution_count": 4,
   "metadata": {
    "collapsed": false
   },
   "outputs": [],
   "source": [
    "import numpy as np\n",
    "import gennoisy\n",
    "from ica import ica\n",
    "import matplotlib.pylab as plt\n",
    "%matplotlib inline\n",
    "vizdata=False"
   ]
  },
  {
   "cell_type": "code",
   "execution_count": 5,
   "metadata": {
    "collapsed": false
   },
   "outputs": [],
   "source": [
    "X,S,A,N = gennoisy.gennoisy()\n",
    "if vizdata:\n",
    "    plt.plot(X)\n",
    "    plt.title('Mixed Signals (3 channels)')\n",
    "    plt.figure()\n",
    "    plt.plot(S)\n",
    "    plt.title('Original Signals')"
   ]
  },
  {
   "cell_type": "code",
   "execution_count": 8,
   "metadata": {
    "collapsed": false
   },
   "outputs": [
    {
     "name": "stdout",
     "output_type": "stream",
     "text": [
      "(2000, 3)\n"
     ]
    }
   ],
   "source": [
    "print X.shape\n",
    "def ica_iterate(X):\n",
    "    print X"
   ]
  },
  {
   "cell_type": "code",
   "execution_count": null,
   "metadata": {
    "collapsed": false
   },
   "outputs": [],
   "source": [
    "ivecs,m = ica(X)\n",
    "rX = (X-m).dot(ivecs).dot( np.linalg.inv(ivecs.T.dot(ivecs)))\n",
    "if vizdata:\n",
    "    plt.plot(rX)\n",
    "    plt.title('Rotated mixed')"
   ]
  },
  {
   "cell_type": "code",
   "execution_count": null,
   "metadata": {
    "collapsed": true
   },
   "outputs": [],
   "source": []
  }
 ],
 "metadata": {
  "kernelspec": {
   "display_name": "Python 2",
   "language": "python",
   "name": "python2"
  },
  "language_info": {
   "codemirror_mode": {
    "name": "ipython",
    "version": 2
   },
   "file_extension": ".py",
   "mimetype": "text/x-python",
   "name": "python",
   "nbconvert_exporter": "python",
   "pygments_lexer": "ipython2",
   "version": "2.7.10"
  }
 },
 "nbformat": 4,
 "nbformat_minor": 1
}
