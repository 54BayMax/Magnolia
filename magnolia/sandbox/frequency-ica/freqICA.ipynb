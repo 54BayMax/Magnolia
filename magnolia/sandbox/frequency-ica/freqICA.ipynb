{
 "cells": [
  {
   "cell_type": "code",
   "execution_count": 1,
   "metadata": {
    "collapsed": false
   },
   "outputs": [],
   "source": [
    "import numpy as np\n",
    "import gennoisy\n",
    "import matplotlib.pylab as plt\n",
    "%matplotlib inline"
   ]
  },
  {
   "cell_type": "code",
   "execution_count": 2,
   "metadata": {
    "collapsed": false
   },
   "outputs": [],
   "source": [
    "X,S,A,N = gennoisy.gennoisy()\n",
    "# plt.plot(X)\n",
    "# plt.title('Mixed Signals (3 channels)')\n",
    "# plt.figure()\n",
    "# plt.plot(S)\n",
    "# plt.title('Original Signals')"
   ]
  },
  {
   "cell_type": "code",
   "execution_count": 3,
   "metadata": {
    "collapsed": false
   },
   "outputs": [],
   "source": [
    "def herm(x):\n",
    "    return x.conj().T\n",
    "\n",
    "def fft(x):\n",
    "    return np.fft.fft(x)\n",
    "\n",
    "def sigmoid(x):\n",
    "    return 1 / (1 + np.exp(-x))\n",
    "\n",
    "def real(x):\n",
    "    return np.real(x)\n",
    "\n",
    "def imag(x):\n",
    "    return np.imag(x)\n",
    "\n",
    "def nonlin(x):\n",
    "    return sigmoid(real(x)) + 1j*sigmoid(imag(x))\n",
    "\n",
    "def frequpdate(W, x):\n",
    "    if not x.shape[0] == W.shape[0]:\n",
    "        x = x.T\n",
    "    update = nonlin(x).dot(herm(x))\n",
    "    nonlin(x).dot(herm(x))\n"
   ]
  },
  {
   "cell_type": "code",
   "execution_count": 56,
   "metadata": {
    "collapsed": false
   },
   "outputs": [
    {
     "data": {
      "text/plain": [
       "(2000, 3)"
      ]
     },
     "execution_count": 56,
     "metadata": {},
     "output_type": "execute_result"
    }
   ],
   "source": [
    "nonlin(X).shape"
   ]
  },
  {
   "cell_type": "code",
   "execution_count": 15,
   "metadata": {
    "collapsed": false
   },
   "outputs": [
    {
     "data": {
      "text/plain": [
       "[<matplotlib.lines.Line2D at 0x111c7da58>,\n",
       " <matplotlib.lines.Line2D at 0x111d84240>,\n",
       " <matplotlib.lines.Line2D at 0x111d84438>]"
      ]
     },
     "execution_count": 15,
     "metadata": {},
     "output_type": "execute_result"
    },
    {
     "data": {
      "image/png": "[encoded data removed]",
      "text/plain": [
       "<matplotlib.figure.Figure at 0x111b6acf8>"
      ]
     },
     "metadata": {},
     "output_type": "display_data"
    }
   ],
   "source": [
    "plt.plot(np.abs(Xf.T))"
   ]
  }
 ],
 "metadata": {
  "kernelspec": {
   "display_name": "Python 3",
   "language": "python",
   "name": "python3"
  },
  "language_info": {
   "codemirror_mode": {
    "name": "ipython",
    "version": 3
   },
   "file_extension": ".py",
   "mimetype": "text/x-python",
   "name": "python",
   "nbconvert_exporter": "python",
   "pygments_lexer": "ipython3",
   "version": "3.5.2"
  }
 },
 "nbformat": 4,
 "nbformat_minor": 2
}
